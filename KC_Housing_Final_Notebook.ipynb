{
 "cells": [
  {
   "cell_type": "markdown",
   "metadata": {},
   "source": [
    "# Kings County Housing Prices Bake-off Analysis Noteook\n",
    "\n",
    "Below I explain and go through the steps I took to come up with my model for predicting housing prices in King county, Washington. "
   ]
  },
  {
   "cell_type": "markdown",
   "metadata": {},
   "source": [
    "## Step 1: Importing Packages, Reading Data, Setting Up Initial Variable \n",
    "\n",
    ">In this step I import all of the packages I need thruout my process, read in my two sets, and sets list "
   ]
  },
  {
   "cell_type": "code",
   "execution_count": 1,
   "metadata": {},
   "outputs": [],
   "source": [
    "#import packages\n",
    "\n",
    "import numpy as np\n",
    "import seaborn as sns \n",
    "from geopy.distance import distance\n",
    "import scipy.stats as stats\n",
    "from scipy import stats \n",
    "from math import sqrt\n",
    "import scipy\n",
    "import pandas as pd\n",
    "import sklearn \n",
    "from sklearn.preprocessing import StandardScaler\n",
    "from statsmodels.formula.api import ols \n",
    "import matplotlib.pyplot as plt   \n",
    "from sklearn.model_selection import train_test_split \n",
    "from sklearn import metrics\n",
    "from sklearn import linear_model \n",
    "from datetime import datetime\n",
    "from sklearn.linear_model import LinearRegression\n",
    "from sklearn.preprocessing import PolynomialFeatures\n",
    "from sklearn.preprocessing import StandardScaler \n",
    "import statsmodels.formula.api as smf\n",
    "import statsmodels.api as sm \n",
    "import pickle\n",
    "\n",
    "plt.style.use('seaborn')\n",
    "sns.set(style='darkgrid', color_codes=True)"
   ]
  },
  {
   "cell_type": "code",
   "execution_count": 105,
   "metadata": {},
   "outputs": [],
   "source": [
    "#Calls data sets\n",
    "\n",
    "hnj = pd.read_csv('kc_house_data_train.csv') "
   ]
  },
  {
   "cell_type": "code",
   "execution_count": 106,
   "metadata": {},
   "outputs": [],
   "source": [
    "#Separates the columns into two variables to make it easier to do charts \n",
    "numerical = ['price','sqft_living', 'sqft_lot','sqft_above', \n",
    "             'sqft_basement','sqft_living15', 'sqft_lot15']\n",
    "\n",
    "categorical = ['zipcode','bedrooms', 'bathrooms',\n",
    "               'floors', 'waterfront', 'view', 'condition','grade','yr_built', 'yr_renovated']\n"
   ]
  },
  {
   "cell_type": "markdown",
   "metadata": {},
   "source": [
    "## Step 2: Exploratory Data Analysis \n",
    "    \n",
    "At the stage I explore all the data with visuals and dataframe outputs. "
   ]
  },
  {
   "cell_type": "code",
   "execution_count": 107,
   "metadata": {},
   "outputs": [
    {
     "data": {
      "text/html": [
       "<div>\n",
       "<style scoped>\n",
       "    .dataframe tbody tr th:only-of-type {\n",
       "        vertical-align: middle;\n",
       "    }\n",
       "\n",
       "    .dataframe tbody tr th {\n",
       "        vertical-align: top;\n",
       "    }\n",
       "\n",
       "    .dataframe thead th {\n",
       "        text-align: right;\n",
       "    }\n",
       "</style>\n",
       "<table border=\"1\" class=\"dataframe\">\n",
       "  <thead>\n",
       "    <tr style=\"text-align: right;\">\n",
       "      <th></th>\n",
       "      <th>Unnamed: 0</th>\n",
       "      <th>id</th>\n",
       "      <th>date</th>\n",
       "      <th>price</th>\n",
       "      <th>bedrooms</th>\n",
       "      <th>bathrooms</th>\n",
       "      <th>sqft_living</th>\n",
       "      <th>sqft_lot</th>\n",
       "      <th>floors</th>\n",
       "      <th>waterfront</th>\n",
       "      <th>...</th>\n",
       "      <th>grade</th>\n",
       "      <th>sqft_above</th>\n",
       "      <th>sqft_basement</th>\n",
       "      <th>yr_built</th>\n",
       "      <th>yr_renovated</th>\n",
       "      <th>zipcode</th>\n",
       "      <th>lat</th>\n",
       "      <th>long</th>\n",
       "      <th>sqft_living15</th>\n",
       "      <th>sqft_lot15</th>\n",
       "    </tr>\n",
       "  </thead>\n",
       "  <tbody>\n",
       "    <tr>\n",
       "      <th>0</th>\n",
       "      <td>0</td>\n",
       "      <td>2591820310</td>\n",
       "      <td>20141006T000000</td>\n",
       "      <td>365000.0</td>\n",
       "      <td>4</td>\n",
       "      <td>2.25</td>\n",
       "      <td>2070</td>\n",
       "      <td>8893</td>\n",
       "      <td>2.0</td>\n",
       "      <td>0</td>\n",
       "      <td>...</td>\n",
       "      <td>8</td>\n",
       "      <td>2070</td>\n",
       "      <td>0</td>\n",
       "      <td>1986</td>\n",
       "      <td>0</td>\n",
       "      <td>98058</td>\n",
       "      <td>47.4388</td>\n",
       "      <td>-122.162</td>\n",
       "      <td>2390</td>\n",
       "      <td>7700</td>\n",
       "    </tr>\n",
       "    <tr>\n",
       "      <th>1</th>\n",
       "      <td>1</td>\n",
       "      <td>7974200820</td>\n",
       "      <td>20140821T000000</td>\n",
       "      <td>865000.0</td>\n",
       "      <td>5</td>\n",
       "      <td>3.00</td>\n",
       "      <td>2900</td>\n",
       "      <td>6730</td>\n",
       "      <td>1.0</td>\n",
       "      <td>0</td>\n",
       "      <td>...</td>\n",
       "      <td>8</td>\n",
       "      <td>1830</td>\n",
       "      <td>1070</td>\n",
       "      <td>1977</td>\n",
       "      <td>0</td>\n",
       "      <td>98115</td>\n",
       "      <td>47.6784</td>\n",
       "      <td>-122.285</td>\n",
       "      <td>2370</td>\n",
       "      <td>6283</td>\n",
       "    </tr>\n",
       "    <tr>\n",
       "      <th>2</th>\n",
       "      <td>2</td>\n",
       "      <td>7701450110</td>\n",
       "      <td>20140815T000000</td>\n",
       "      <td>1038000.0</td>\n",
       "      <td>4</td>\n",
       "      <td>2.50</td>\n",
       "      <td>3770</td>\n",
       "      <td>10893</td>\n",
       "      <td>2.0</td>\n",
       "      <td>0</td>\n",
       "      <td>...</td>\n",
       "      <td>11</td>\n",
       "      <td>3770</td>\n",
       "      <td>0</td>\n",
       "      <td>1997</td>\n",
       "      <td>0</td>\n",
       "      <td>98006</td>\n",
       "      <td>47.5646</td>\n",
       "      <td>-122.129</td>\n",
       "      <td>3710</td>\n",
       "      <td>9685</td>\n",
       "    </tr>\n",
       "    <tr>\n",
       "      <th>3</th>\n",
       "      <td>3</td>\n",
       "      <td>9522300010</td>\n",
       "      <td>20150331T000000</td>\n",
       "      <td>1490000.0</td>\n",
       "      <td>3</td>\n",
       "      <td>3.50</td>\n",
       "      <td>4560</td>\n",
       "      <td>14608</td>\n",
       "      <td>2.0</td>\n",
       "      <td>0</td>\n",
       "      <td>...</td>\n",
       "      <td>12</td>\n",
       "      <td>4560</td>\n",
       "      <td>0</td>\n",
       "      <td>1990</td>\n",
       "      <td>0</td>\n",
       "      <td>98034</td>\n",
       "      <td>47.6995</td>\n",
       "      <td>-122.228</td>\n",
       "      <td>4050</td>\n",
       "      <td>14226</td>\n",
       "    </tr>\n",
       "    <tr>\n",
       "      <th>4</th>\n",
       "      <td>4</td>\n",
       "      <td>9510861140</td>\n",
       "      <td>20140714T000000</td>\n",
       "      <td>711000.0</td>\n",
       "      <td>3</td>\n",
       "      <td>2.50</td>\n",
       "      <td>2550</td>\n",
       "      <td>5376</td>\n",
       "      <td>2.0</td>\n",
       "      <td>0</td>\n",
       "      <td>...</td>\n",
       "      <td>9</td>\n",
       "      <td>2550</td>\n",
       "      <td>0</td>\n",
       "      <td>2004</td>\n",
       "      <td>0</td>\n",
       "      <td>98052</td>\n",
       "      <td>47.6647</td>\n",
       "      <td>-122.083</td>\n",
       "      <td>2250</td>\n",
       "      <td>4050</td>\n",
       "    </tr>\n",
       "  </tbody>\n",
       "</table>\n",
       "<p>5 rows × 22 columns</p>\n",
       "</div>"
      ],
      "text/plain": [
       "   Unnamed: 0          id             date      price  bedrooms  bathrooms  \\\n",
       "0           0  2591820310  20141006T000000   365000.0         4       2.25   \n",
       "1           1  7974200820  20140821T000000   865000.0         5       3.00   \n",
       "2           2  7701450110  20140815T000000  1038000.0         4       2.50   \n",
       "3           3  9522300010  20150331T000000  1490000.0         3       3.50   \n",
       "4           4  9510861140  20140714T000000   711000.0         3       2.50   \n",
       "\n",
       "   sqft_living  sqft_lot  floors  waterfront  ...  grade  sqft_above  \\\n",
       "0         2070      8893     2.0           0  ...      8        2070   \n",
       "1         2900      6730     1.0           0  ...      8        1830   \n",
       "2         3770     10893     2.0           0  ...     11        3770   \n",
       "3         4560     14608     2.0           0  ...     12        4560   \n",
       "4         2550      5376     2.0           0  ...      9        2550   \n",
       "\n",
       "   sqft_basement  yr_built  yr_renovated  zipcode      lat     long  \\\n",
       "0              0      1986             0    98058  47.4388 -122.162   \n",
       "1           1070      1977             0    98115  47.6784 -122.285   \n",
       "2              0      1997             0    98006  47.5646 -122.129   \n",
       "3              0      1990             0    98034  47.6995 -122.228   \n",
       "4              0      2004             0    98052  47.6647 -122.083   \n",
       "\n",
       "   sqft_living15  sqft_lot15  \n",
       "0           2390        7700  \n",
       "1           2370        6283  \n",
       "2           3710        9685  \n",
       "3           4050       14226  \n",
       "4           2250        4050  \n",
       "\n",
       "[5 rows x 22 columns]"
      ]
     },
     "execution_count": 107,
     "metadata": {},
     "output_type": "execute_result"
    }
   ],
   "source": [
    "#Returns the first 5 rows of the data set so that i ca\n",
    "hnj.head()"
   ]
  },
  {
   "cell_type": "code",
   "execution_count": 109,
   "metadata": {},
   "outputs": [
    {
     "data": {
      "text/html": [
       "<div>\n",
       "<style scoped>\n",
       "    .dataframe tbody tr th:only-of-type {\n",
       "        vertical-align: middle;\n",
       "    }\n",
       "\n",
       "    .dataframe tbody tr th {\n",
       "        vertical-align: top;\n",
       "    }\n",
       "\n",
       "    .dataframe thead th {\n",
       "        text-align: right;\n",
       "    }\n",
       "</style>\n",
       "<table border=\"1\" class=\"dataframe\">\n",
       "  <thead>\n",
       "    <tr style=\"text-align: right;\">\n",
       "      <th></th>\n",
       "      <th>Unnamed: 0</th>\n",
       "      <th>id</th>\n",
       "      <th>price</th>\n",
       "      <th>bedrooms</th>\n",
       "      <th>bathrooms</th>\n",
       "      <th>sqft_living</th>\n",
       "      <th>sqft_lot</th>\n",
       "      <th>floors</th>\n",
       "      <th>waterfront</th>\n",
       "      <th>view</th>\n",
       "      <th>...</th>\n",
       "      <th>grade</th>\n",
       "      <th>sqft_above</th>\n",
       "      <th>sqft_basement</th>\n",
       "      <th>yr_built</th>\n",
       "      <th>yr_renovated</th>\n",
       "      <th>zipcode</th>\n",
       "      <th>lat</th>\n",
       "      <th>long</th>\n",
       "      <th>sqft_living15</th>\n",
       "      <th>sqft_lot15</th>\n",
       "    </tr>\n",
       "  </thead>\n",
       "  <tbody>\n",
       "    <tr>\n",
       "      <th>count</th>\n",
       "      <td>17290.000000</td>\n",
       "      <td>1.729000e+04</td>\n",
       "      <td>1.729000e+04</td>\n",
       "      <td>17290.000000</td>\n",
       "      <td>17290.000000</td>\n",
       "      <td>17290.000000</td>\n",
       "      <td>1.729000e+04</td>\n",
       "      <td>17290.000000</td>\n",
       "      <td>17290.000000</td>\n",
       "      <td>17290.000000</td>\n",
       "      <td>...</td>\n",
       "      <td>17290.000000</td>\n",
       "      <td>17290.000000</td>\n",
       "      <td>17290.000000</td>\n",
       "      <td>17290.000000</td>\n",
       "      <td>17290.000000</td>\n",
       "      <td>17290.000000</td>\n",
       "      <td>17290.000000</td>\n",
       "      <td>17290.000000</td>\n",
       "      <td>17290.000000</td>\n",
       "      <td>17290.000000</td>\n",
       "    </tr>\n",
       "    <tr>\n",
       "      <th>mean</th>\n",
       "      <td>8644.500000</td>\n",
       "      <td>4.565502e+09</td>\n",
       "      <td>5.407395e+05</td>\n",
       "      <td>3.372470</td>\n",
       "      <td>2.111943</td>\n",
       "      <td>2081.464604</td>\n",
       "      <td>1.524340e+04</td>\n",
       "      <td>1.490312</td>\n",
       "      <td>0.007981</td>\n",
       "      <td>0.238519</td>\n",
       "      <td>...</td>\n",
       "      <td>7.654425</td>\n",
       "      <td>1789.306015</td>\n",
       "      <td>292.158589</td>\n",
       "      <td>1970.792019</td>\n",
       "      <td>83.806304</td>\n",
       "      <td>98078.193175</td>\n",
       "      <td>47.560058</td>\n",
       "      <td>-122.214258</td>\n",
       "      <td>1987.986698</td>\n",
       "      <td>12873.475824</td>\n",
       "    </tr>\n",
       "    <tr>\n",
       "      <th>std</th>\n",
       "      <td>4991.337413</td>\n",
       "      <td>2.874656e+09</td>\n",
       "      <td>3.733190e+05</td>\n",
       "      <td>0.939346</td>\n",
       "      <td>0.770476</td>\n",
       "      <td>920.018539</td>\n",
       "      <td>4.230462e+04</td>\n",
       "      <td>0.538909</td>\n",
       "      <td>0.088985</td>\n",
       "      <td>0.775229</td>\n",
       "      <td>...</td>\n",
       "      <td>1.174718</td>\n",
       "      <td>829.265107</td>\n",
       "      <td>443.151874</td>\n",
       "      <td>29.343516</td>\n",
       "      <td>400.329376</td>\n",
       "      <td>53.607949</td>\n",
       "      <td>0.138412</td>\n",
       "      <td>0.140857</td>\n",
       "      <td>684.802635</td>\n",
       "      <td>27227.437583</td>\n",
       "    </tr>\n",
       "    <tr>\n",
       "      <th>min</th>\n",
       "      <td>0.000000</td>\n",
       "      <td>1.000102e+06</td>\n",
       "      <td>7.500000e+04</td>\n",
       "      <td>0.000000</td>\n",
       "      <td>0.000000</td>\n",
       "      <td>290.000000</td>\n",
       "      <td>5.720000e+02</td>\n",
       "      <td>1.000000</td>\n",
       "      <td>0.000000</td>\n",
       "      <td>0.000000</td>\n",
       "      <td>...</td>\n",
       "      <td>1.000000</td>\n",
       "      <td>290.000000</td>\n",
       "      <td>0.000000</td>\n",
       "      <td>1900.000000</td>\n",
       "      <td>0.000000</td>\n",
       "      <td>98001.000000</td>\n",
       "      <td>47.155900</td>\n",
       "      <td>-122.519000</td>\n",
       "      <td>399.000000</td>\n",
       "      <td>659.000000</td>\n",
       "    </tr>\n",
       "    <tr>\n",
       "      <th>25%</th>\n",
       "      <td>4322.250000</td>\n",
       "      <td>2.114701e+09</td>\n",
       "      <td>3.210000e+05</td>\n",
       "      <td>3.000000</td>\n",
       "      <td>1.500000</td>\n",
       "      <td>1430.000000</td>\n",
       "      <td>5.081250e+03</td>\n",
       "      <td>1.000000</td>\n",
       "      <td>0.000000</td>\n",
       "      <td>0.000000</td>\n",
       "      <td>...</td>\n",
       "      <td>7.000000</td>\n",
       "      <td>1200.000000</td>\n",
       "      <td>0.000000</td>\n",
       "      <td>1951.000000</td>\n",
       "      <td>0.000000</td>\n",
       "      <td>98033.000000</td>\n",
       "      <td>47.471200</td>\n",
       "      <td>-122.329000</td>\n",
       "      <td>1490.000000</td>\n",
       "      <td>5111.250000</td>\n",
       "    </tr>\n",
       "    <tr>\n",
       "      <th>50%</th>\n",
       "      <td>8644.500000</td>\n",
       "      <td>3.903650e+09</td>\n",
       "      <td>4.500000e+05</td>\n",
       "      <td>3.000000</td>\n",
       "      <td>2.250000</td>\n",
       "      <td>1920.000000</td>\n",
       "      <td>7.642000e+03</td>\n",
       "      <td>1.500000</td>\n",
       "      <td>0.000000</td>\n",
       "      <td>0.000000</td>\n",
       "      <td>...</td>\n",
       "      <td>7.000000</td>\n",
       "      <td>1560.000000</td>\n",
       "      <td>0.000000</td>\n",
       "      <td>1974.000000</td>\n",
       "      <td>0.000000</td>\n",
       "      <td>98065.000000</td>\n",
       "      <td>47.571600</td>\n",
       "      <td>-122.230000</td>\n",
       "      <td>1840.000000</td>\n",
       "      <td>7622.500000</td>\n",
       "    </tr>\n",
       "    <tr>\n",
       "      <th>75%</th>\n",
       "      <td>12966.750000</td>\n",
       "      <td>7.301150e+09</td>\n",
       "      <td>6.450000e+05</td>\n",
       "      <td>4.000000</td>\n",
       "      <td>2.500000</td>\n",
       "      <td>2550.000000</td>\n",
       "      <td>1.072575e+04</td>\n",
       "      <td>2.000000</td>\n",
       "      <td>0.000000</td>\n",
       "      <td>0.000000</td>\n",
       "      <td>...</td>\n",
       "      <td>8.000000</td>\n",
       "      <td>2214.500000</td>\n",
       "      <td>560.000000</td>\n",
       "      <td>1996.000000</td>\n",
       "      <td>0.000000</td>\n",
       "      <td>98118.000000</td>\n",
       "      <td>47.677900</td>\n",
       "      <td>-122.126000</td>\n",
       "      <td>2360.000000</td>\n",
       "      <td>10101.750000</td>\n",
       "    </tr>\n",
       "    <tr>\n",
       "      <th>max</th>\n",
       "      <td>17289.000000</td>\n",
       "      <td>9.900000e+09</td>\n",
       "      <td>7.700000e+06</td>\n",
       "      <td>33.000000</td>\n",
       "      <td>8.000000</td>\n",
       "      <td>13540.000000</td>\n",
       "      <td>1.651359e+06</td>\n",
       "      <td>3.500000</td>\n",
       "      <td>1.000000</td>\n",
       "      <td>4.000000</td>\n",
       "      <td>...</td>\n",
       "      <td>13.000000</td>\n",
       "      <td>9410.000000</td>\n",
       "      <td>4820.000000</td>\n",
       "      <td>2015.000000</td>\n",
       "      <td>2015.000000</td>\n",
       "      <td>98199.000000</td>\n",
       "      <td>47.777600</td>\n",
       "      <td>-121.315000</td>\n",
       "      <td>6210.000000</td>\n",
       "      <td>858132.000000</td>\n",
       "    </tr>\n",
       "  </tbody>\n",
       "</table>\n",
       "<p>8 rows × 21 columns</p>\n",
       "</div>"
      ],
      "text/plain": [
       "         Unnamed: 0            id         price      bedrooms     bathrooms  \\\n",
       "count  17290.000000  1.729000e+04  1.729000e+04  17290.000000  17290.000000   \n",
       "mean    8644.500000  4.565502e+09  5.407395e+05      3.372470      2.111943   \n",
       "std     4991.337413  2.874656e+09  3.733190e+05      0.939346      0.770476   \n",
       "min        0.000000  1.000102e+06  7.500000e+04      0.000000      0.000000   \n",
       "25%     4322.250000  2.114701e+09  3.210000e+05      3.000000      1.500000   \n",
       "50%     8644.500000  3.903650e+09  4.500000e+05      3.000000      2.250000   \n",
       "75%    12966.750000  7.301150e+09  6.450000e+05      4.000000      2.500000   \n",
       "max    17289.000000  9.900000e+09  7.700000e+06     33.000000      8.000000   \n",
       "\n",
       "        sqft_living      sqft_lot        floors    waterfront          view  \\\n",
       "count  17290.000000  1.729000e+04  17290.000000  17290.000000  17290.000000   \n",
       "mean    2081.464604  1.524340e+04      1.490312      0.007981      0.238519   \n",
       "std      920.018539  4.230462e+04      0.538909      0.088985      0.775229   \n",
       "min      290.000000  5.720000e+02      1.000000      0.000000      0.000000   \n",
       "25%     1430.000000  5.081250e+03      1.000000      0.000000      0.000000   \n",
       "50%     1920.000000  7.642000e+03      1.500000      0.000000      0.000000   \n",
       "75%     2550.000000  1.072575e+04      2.000000      0.000000      0.000000   \n",
       "max    13540.000000  1.651359e+06      3.500000      1.000000      4.000000   \n",
       "\n",
       "       ...         grade    sqft_above  sqft_basement      yr_built  \\\n",
       "count  ...  17290.000000  17290.000000   17290.000000  17290.000000   \n",
       "mean   ...      7.654425   1789.306015     292.158589   1970.792019   \n",
       "std    ...      1.174718    829.265107     443.151874     29.343516   \n",
       "min    ...      1.000000    290.000000       0.000000   1900.000000   \n",
       "25%    ...      7.000000   1200.000000       0.000000   1951.000000   \n",
       "50%    ...      7.000000   1560.000000       0.000000   1974.000000   \n",
       "75%    ...      8.000000   2214.500000     560.000000   1996.000000   \n",
       "max    ...     13.000000   9410.000000    4820.000000   2015.000000   \n",
       "\n",
       "       yr_renovated       zipcode           lat          long  sqft_living15  \\\n",
       "count  17290.000000  17290.000000  17290.000000  17290.000000   17290.000000   \n",
       "mean      83.806304  98078.193175     47.560058   -122.214258    1987.986698   \n",
       "std      400.329376     53.607949      0.138412      0.140857     684.802635   \n",
       "min        0.000000  98001.000000     47.155900   -122.519000     399.000000   \n",
       "25%        0.000000  98033.000000     47.471200   -122.329000    1490.000000   \n",
       "50%        0.000000  98065.000000     47.571600   -122.230000    1840.000000   \n",
       "75%        0.000000  98118.000000     47.677900   -122.126000    2360.000000   \n",
       "max     2015.000000  98199.000000     47.777600   -121.315000    6210.000000   \n",
       "\n",
       "          sqft_lot15  \n",
       "count   17290.000000  \n",
       "mean    12873.475824  \n",
       "std     27227.437583  \n",
       "min       659.000000  \n",
       "25%      5111.250000  \n",
       "50%      7622.500000  \n",
       "75%     10101.750000  \n",
       "max    858132.000000  \n",
       "\n",
       "[8 rows x 21 columns]"
      ]
     },
     "execution_count": 109,
     "metadata": {},
     "output_type": "execute_result"
    }
   ],
   "source": [
    "#Returns a summary of all columns so that I can \n",
    "hnj.describe()"
   ]
  },
  {
   "cell_type": "code",
   "execution_count": 110,
   "metadata": {},
   "outputs": [
    {
     "data": {
      "text/plain": [
       "<matplotlib.axes._subplots.AxesSubplot at 0x7fe277672eb8>"
      ]
     },
     "execution_count": 110,
     "metadata": {},
     "output_type": "execute_result"
    },
    {
     "data": {
      "image/png": "[encoded data removed]",
      "text/plain": [
       "<Figure size 1440x1440 with 16 Axes>"
      ]
     },
     "metadata": {},
     "output_type": "display_data"
    }
   ],
   "source": [
    "#Creats a boxplot of all the columns listed. \n",
    "fig, axes = plt.subplots(8,2, figsize=(20,20)) \n",
    "fig.suptitle('All Numeric Columns')\n",
    "\n",
    "sns.boxplot(ax=axes[0, 0], data=h['bedrooms'], orient='h')\n",
    "sns.boxplot(ax=axes[0, 1], data=h['bathrooms'], orient='h')\n",
    "\n",
    "sns.boxplot(ax=axes[1, 0], data=h['price'], orient='h') \n",
    "sns.boxplot(ax=axes[1, 1], data=h['sqft_living'], orient='h') \n",
    "\n",
    "sns.boxplot(ax=axes[2, 0], data=h['sqft_lot'], orient='h')\n",
    "sns.boxplot(ax=axes[2, 1], data=h['floors'], orient='h')\n",
    "\n",
    "sns.boxplot(ax=axes[3, 0], data=h['view'], orient='h') \n",
    "sns.boxplot(ax=axes[3, 1], data=h['condition'], orient='h')  \n",
    "\n",
    "sns.boxplot(ax=axes[4, 0], data=h['grade'], orient='h')\n",
    "sns.boxplot(ax=axes[4, 1], data=h['sqft_above'], orient='h')\n",
    "\n",
    "sns.boxplot(ax=axes[5, 0], data=h['sqft_basement'], orient='h') \n",
    "sns.boxplot(ax=axes[5, 1], data=h['yr_built'], orient='h') \n",
    "\n",
    "sns.boxplot(ax=axes[6, 0], data=h['yr_renovated'], orient='h')\n",
    "sns.boxplot(ax=axes[6, 1], data=h['zipcode'], orient='h')\n",
    "\n",
    "sns.boxplot(ax=axes[7, 0], data=h['sqft_living15'], orient='h') \n",
    "sns.boxplot(ax=axes[7, 1], data=h['sqft_lot15'], orient='h') "
   ]
  },
  {
   "cell_type": "code",
   "execution_count": 121,
   "metadata": {},
   "outputs": [
    {
     "data": {
      "image/png": "[encoded data removed]",
      "text/plain": [
       "<Figure size 4320x5760 with 10 Axes>"
      ]
     },
     "metadata": {},
     "output_type": "display_data"
    }
   ],
   "source": [
    "#Generates charts for all the catagorical columns\n",
    "fig, ax = plt.subplots(10, 1, figsize=(60, 80))\n",
    "for variable, subplot in zip(categorical, ax.flatten()):\n",
    "    sns.countplot(hnj[variable], ax=subplot)\n",
    "    for label in subplot.get_xticklabels():\n",
    "        label.set_rotation(90)"
   ]
  },
  {
   "cell_type": "code",
   "execution_count": 122,
   "metadata": {},
   "outputs": [
    {
     "data": {
      "text/plain": [
       "<matplotlib.axes._subplots.AxesSubplot at 0x7fe26502f160>"
      ]
     },
     "execution_count": 122,
     "metadata": {},
     "output_type": "execute_result"
    },
    {
     "data": {
      "image/png": "[encoded data removed]",
      "text/plain": [
       "<Figure size 576x396 with 1 Axes>"
      ]
     },
     "metadata": {},
     "output_type": "display_data"
    }
   ],
   "source": [
    "#The next few lines creat charts for some of the numerical variables\n",
    "sorted_nb = h.groupby(['bedrooms'])['price'].median().sort_values()\n",
    "sns.boxplot(x=h['bedrooms'], y=h['price'], order=list(sorted_nb.index))"
   ]
  },
  {
   "cell_type": "code",
   "execution_count": 123,
   "metadata": {},
   "outputs": [
    {
     "data": {
      "text/plain": [
       "<matplotlib.axes._subplots.AxesSubplot at 0x7fe268f03d30>"
      ]
     },
     "execution_count": 123,
     "metadata": {},
     "output_type": "execute_result"
    },
    {
     "data": {
      "image/png": "[encoded data removed]",
      "text/plain": [
       "<Figure size 576x396 with 1 Axes>"
      ]
     },
     "metadata": {},
     "output_type": "display_data"
    }
   ],
   "source": [
    "sorted_nb = h.groupby(['bathrooms'])['price'].median().sort_values()\n",
    "sns.boxplot(x=h['bathrooms'], y=h['price'], order=list(sorted_nb.index))"
   ]
  },
  {
   "cell_type": "code",
   "execution_count": 124,
   "metadata": {},
   "outputs": [
    {
     "data": {
      "text/plain": [
       "<matplotlib.axes._subplots.AxesSubplot at 0x7fe27669ef98>"
      ]
     },
     "execution_count": 124,
     "metadata": {},
     "output_type": "execute_result"
    },
    {
     "data": {
      "image/png": "[encoded data removed]",
      "text/plain": [
       "<Figure size 576x396 with 1 Axes>"
      ]
     },
     "metadata": {},
     "output_type": "display_data"
    }
   ],
   "source": [
    "sorted_nb = h.groupby(['floors'])['price'].median().sort_values()\n",
    "sns.boxplot(x=h['floors'], y=h['price'], order=list(sorted_nb.index))"
   ]
  },
  {
   "cell_type": "code",
   "execution_count": 125,
   "metadata": {},
   "outputs": [
    {
     "data": {
      "text/plain": [
       "<matplotlib.axes._subplots.AxesSubplot at 0x7fe277b438d0>"
      ]
     },
     "execution_count": 125,
     "metadata": {},
     "output_type": "execute_result"
    },
    {
     "data": {
      "image/png": "[encoded data removed]",
      "text/plain": [
       "<Figure size 576x396 with 1 Axes>"
      ]
     },
     "metadata": {},
     "output_type": "display_data"
    }
   ],
   "source": [
    "sorted_nb = h.groupby(['grade'])['price'].median().sort_values()\n",
    "sns.boxplot(x=h['grade'], y=h['price'], order=list(sorted_nb.index))"
   ]
  },
  {
   "cell_type": "code",
   "execution_count": 126,
   "metadata": {},
   "outputs": [
    {
     "data": {
      "text/plain": [
       "<matplotlib.axes._subplots.AxesSubplot at 0x7fe28cf05a20>"
      ]
     },
     "execution_count": 126,
     "metadata": {},
     "output_type": "execute_result"
    },
    {
     "data": {
      "image/png": "[encoded data removed]",
      "text/plain": [
       "<Figure size 576x396 with 1 Axes>"
      ]
     },
     "metadata": {},
     "output_type": "display_data"
    }
   ],
   "source": [
    "sorted_nb = h.groupby(['condition'])['price'].median().sort_values()\n",
    "sns.boxplot(x=h['condition'], y=h['price'], order=list(sorted_nb.index))"
   ]
  },
  {
   "cell_type": "code",
   "execution_count": 127,
   "metadata": {},
   "outputs": [
    {
     "data": {
      "text/plain": [
       "<matplotlib.axes._subplots.AxesSubplot at 0x7fe2748c2780>"
      ]
     },
     "execution_count": 127,
     "metadata": {},
     "output_type": "execute_result"
    },
    {
     "data": {
      "image/png": "[encoded data removed]",
      "text/plain": [
       "<Figure size 576x396 with 1 Axes>"
      ]
     },
     "metadata": {},
     "output_type": "display_data"
    }
   ],
   "source": [
    "sorted_nb = h.groupby(['zipcode'])['price'].median().sort_values()\n",
    "sns.boxplot(x=h['zipcode'], y=h['price'], order=list(sorted_nb.index))"
   ]
  },
  {
   "cell_type": "code",
   "execution_count": 128,
   "metadata": {},
   "outputs": [
    {
     "data": {
      "text/plain": [
       "<matplotlib.axes._subplots.AxesSubplot at 0x7fe275eb5978>"
      ]
     },
     "execution_count": 128,
     "metadata": {},
     "output_type": "execute_result"
    },
    {
     "data": {
      "image/png": "[encoded data removed]",
      "text/plain": [
       "<Figure size 576x396 with 1 Axes>"
      ]
     },
     "metadata": {},
     "output_type": "display_data"
    }
   ],
   "source": [
    "#Explores bedrooms against price in a way that better shows the spread of bedrooms.\n",
    "sns.regplot(h['price'],h['bedrooms'], scatter_kws={\"color\": \"black\"}, line_kws={\"color\": \"red\"})"
   ]
  },
  {
   "cell_type": "code",
   "execution_count": 129,
   "metadata": {},
   "outputs": [
    {
     "data": {
      "text/plain": [
       "zipcode         -0.048958\n",
       "id              -0.015644\n",
       "Unnamed: 0      -0.012306\n",
       "long             0.019327\n",
       "condition        0.036099\n",
       "yr_built         0.056450\n",
       "sqft_lot15       0.081423\n",
       "sqft_lot         0.086803\n",
       "yr_renovated     0.117770\n",
       "floors           0.256985\n",
       "waterfront       0.275779\n",
       "lat              0.302394\n",
       "bedrooms         0.305106\n",
       "sqft_basement    0.323312\n",
       "view             0.395485\n",
       "bathrooms        0.524335\n",
       "sqft_living15    0.585567\n",
       "sqft_above       0.607760\n",
       "grade            0.666215\n",
       "sqft_living      0.703540\n",
       "price            1.000000\n",
       "Name: price, dtype: float64"
      ]
     },
     "execution_count": 129,
     "metadata": {},
     "output_type": "execute_result"
    }
   ],
   "source": [
    "#hHere\n",
    "price_corr = hnj[hnj.columns[:]].corr()['price'][:] \n",
    "price_corr.sort_values()"
   ]
  },
  {
   "cell_type": "code",
   "execution_count": 130,
   "metadata": {},
   "outputs": [
    {
     "data": {
      "image/png": "[encoded data removed]",
      "text/plain": [
       "<Figure size 720x648 with 2 Axes>"
      ]
     },
     "metadata": {},
     "output_type": "display_data"
    }
   ],
   "source": [
    "plt.style.use('seaborn')\n",
    "sns.set(style=\"white\") \n",
    "\n",
    "\n",
    "f, ax = plt.subplots(figsize=(10, 9))\n",
    "\n",
    "mask = np.zeros_like(hnj.corr())\n",
    "mask[np.triu_indices_from(mask)] = True\n",
    "with sns.axes_style(\"white\"):\n",
    "    ax = sns.heatmap(hnj.corr(), mask=mask, square=True)\n",
    "b, t = plt.ylim() \n",
    "b += .5\n",
    "t -= .5 \n",
    "plt.ylim(b, t) \n",
    "plt.show() "
   ]
  },
  {
   "cell_type": "markdown",
   "metadata": {},
   "source": [
    "## Step 3: Clean up the data \n",
    "\n",
    "Having looked at the visuals, I have noted multiple columns that require capping for extreme, accounting for errors, and other such transformations."
   ]
  },
  {
   "cell_type": "code",
   "execution_count": 132,
   "metadata": {},
   "outputs": [],
   "source": [
    "#Creates variable list tranform thruout\n",
    "prelim_feat = ['zipcode', 'date', 'price', 'bedrooms', 'bathrooms',\n",
    "       'sqft_living', 'sqft_lot', 'floors', 'waterfront', 'view', 'condition','grade', 'sqft_above', \n",
    "               'sqft_basement', 'yr_built', 'yr_renovated','lat', 'long'] \n",
    "\n",
    "test_feat = ['zipcode', 'bedrooms', 'bathrooms',\n",
    "       'sqft_living', 'sqft_lot', 'floors', 'waterfront', 'view', 'condition','grade', 'sqft_above', \n",
    "               'sqft_basement', 'yr_built', 'yr_renovated','lat', 'long'] \n",
    "\n",
    "\n",
    "hnj1 = hnj[test_feat] \n",
    "target = 'price'"
   ]
  },
  {
   "cell_type": "code",
   "execution_count": 136,
   "metadata": {},
   "outputs": [],
   "source": [
    "hnj2 = hnj.copy()"
   ]
  },
  {
   "cell_type": "code",
   "execution_count": 137,
   "metadata": {},
   "outputs": [],
   "source": [
    "#Drops unneeded columns\n",
    "def drop_uneeded_columns(df): \n",
    "    unwanted_columns_lists= ['Unnamed: 0', 'id', 'date',\n",
    "                             'sqft_living15', 'sqft_lot15'] \n",
    "    for c in unwanted_columns_lists: \n",
    "        del df[c] "
   ]
  },
  {
   "cell_type": "code",
   "execution_count": 138,
   "metadata": {},
   "outputs": [],
   "source": [
    "drop_uneeded_columns(hnj2)"
   ]
  },
  {
   "cell_type": "code",
   "execution_count": 139,
   "metadata": {},
   "outputs": [],
   "source": [
    "#Creates Test to check features\n",
    "def model_test(df, features, target): \n",
    "    target = df[target]\n",
    "    df_feature = df[features]\n",
    "    X_train, X_test, y_train, y_test = train_test_split(df_feature, target, random_state=34,test_size=0.2)\n",
    "    lm = linear_model.LinearRegression()\n",
    "    lm = lm.fit(X_train, y_train)\n",
    "    y_train_pred = lm.predict(X_train) \n",
    "    train_rmse = np.sqrt(metrics.mean_squared_error(y_train, y_train_pred))\n",
    "    y_pred = lm.predict(X_test)\n",
    "    test_rmse = np.sqrt(metrics.mean_squared_error(y_test, y_pred))\n",
    "    print('Training: ', int(train_rmse), \"vs. Testing: \", int(test_rmse))     "
   ]
  },
  {
   "cell_type": "code",
   "execution_count": 140,
   "metadata": {},
   "outputs": [
    {
     "name": "stdout",
     "output_type": "stream",
     "text": [
      "Training:  203869 vs. Testing:  211470\n"
     ]
    }
   ],
   "source": [
    "model_test(hnj2, test_feat, target)"
   ]
  },
  {
   "cell_type": "code",
   "execution_count": 141,
   "metadata": {},
   "outputs": [],
   "source": [
    "hnj3 = hnj2.copy()"
   ]
  },
  {
   "cell_type": "code",
   "execution_count": 142,
   "metadata": {},
   "outputs": [],
   "source": [
    "#This function caps bedrooms and bathrooms \n",
    "def cap_ba_bd(row):\n",
    "    if row['bedrooms'] > 11:\n",
    "        row['bedrooms'] = 3 #column average\n",
    "    if row['bedrooms'] > 9:\n",
    "        row['bedrooms'] = 10\n",
    "    if row['bathrooms'] < 1:\n",
    "        row['bathrooms'] = 1\n",
    "    return row "
   ]
  },
  {
   "cell_type": "code",
   "execution_count": 143,
   "metadata": {
    "scrolled": true
   },
   "outputs": [
    {
     "data": {
      "text/html": [
       "<div>\n",
       "<style scoped>\n",
       "    .dataframe tbody tr th:only-of-type {\n",
       "        vertical-align: middle;\n",
       "    }\n",
       "\n",
       "    .dataframe tbody tr th {\n",
       "        vertical-align: top;\n",
       "    }\n",
       "\n",
       "    .dataframe thead th {\n",
       "        text-align: right;\n",
       "    }\n",
       "</style>\n",
       "<table border=\"1\" class=\"dataframe\">\n",
       "  <thead>\n",
       "    <tr style=\"text-align: right;\">\n",
       "      <th></th>\n",
       "      <th>price</th>\n",
       "      <th>bedrooms</th>\n",
       "      <th>bathrooms</th>\n",
       "      <th>sqft_living</th>\n",
       "      <th>sqft_lot</th>\n",
       "      <th>floors</th>\n",
       "      <th>waterfront</th>\n",
       "      <th>view</th>\n",
       "      <th>condition</th>\n",
       "      <th>grade</th>\n",
       "      <th>sqft_above</th>\n",
       "      <th>sqft_basement</th>\n",
       "      <th>yr_built</th>\n",
       "      <th>yr_renovated</th>\n",
       "      <th>zipcode</th>\n",
       "      <th>lat</th>\n",
       "      <th>long</th>\n",
       "    </tr>\n",
       "  </thead>\n",
       "  <tbody>\n",
       "    <tr>\n",
       "      <th>0</th>\n",
       "      <td>365000.0</td>\n",
       "      <td>4.0</td>\n",
       "      <td>2.25</td>\n",
       "      <td>2070.0</td>\n",
       "      <td>8893.0</td>\n",
       "      <td>2.0</td>\n",
       "      <td>0.0</td>\n",
       "      <td>0.0</td>\n",
       "      <td>4.0</td>\n",
       "      <td>8.0</td>\n",
       "      <td>2070.0</td>\n",
       "      <td>0.0</td>\n",
       "      <td>1986.0</td>\n",
       "      <td>0.0</td>\n",
       "      <td>98058.0</td>\n",
       "      <td>47.4388</td>\n",
       "      <td>-122.162</td>\n",
       "    </tr>\n",
       "    <tr>\n",
       "      <th>1</th>\n",
       "      <td>865000.0</td>\n",
       "      <td>5.0</td>\n",
       "      <td>3.00</td>\n",
       "      <td>2900.0</td>\n",
       "      <td>6730.0</td>\n",
       "      <td>1.0</td>\n",
       "      <td>0.0</td>\n",
       "      <td>0.0</td>\n",
       "      <td>5.0</td>\n",
       "      <td>8.0</td>\n",
       "      <td>1830.0</td>\n",
       "      <td>1070.0</td>\n",
       "      <td>1977.0</td>\n",
       "      <td>0.0</td>\n",
       "      <td>98115.0</td>\n",
       "      <td>47.6784</td>\n",
       "      <td>-122.285</td>\n",
       "    </tr>\n",
       "    <tr>\n",
       "      <th>2</th>\n",
       "      <td>1038000.0</td>\n",
       "      <td>4.0</td>\n",
       "      <td>2.50</td>\n",
       "      <td>3770.0</td>\n",
       "      <td>10893.0</td>\n",
       "      <td>2.0</td>\n",
       "      <td>0.0</td>\n",
       "      <td>2.0</td>\n",
       "      <td>3.0</td>\n",
       "      <td>11.0</td>\n",
       "      <td>3770.0</td>\n",
       "      <td>0.0</td>\n",
       "      <td>1997.0</td>\n",
       "      <td>0.0</td>\n",
       "      <td>98006.0</td>\n",
       "      <td>47.5646</td>\n",
       "      <td>-122.129</td>\n",
       "    </tr>\n",
       "    <tr>\n",
       "      <th>3</th>\n",
       "      <td>1490000.0</td>\n",
       "      <td>3.0</td>\n",
       "      <td>3.50</td>\n",
       "      <td>4560.0</td>\n",
       "      <td>14608.0</td>\n",
       "      <td>2.0</td>\n",
       "      <td>0.0</td>\n",
       "      <td>2.0</td>\n",
       "      <td>3.0</td>\n",
       "      <td>12.0</td>\n",
       "      <td>4560.0</td>\n",
       "      <td>0.0</td>\n",
       "      <td>1990.0</td>\n",
       "      <td>0.0</td>\n",
       "      <td>98034.0</td>\n",
       "      <td>47.6995</td>\n",
       "      <td>-122.228</td>\n",
       "    </tr>\n",
       "    <tr>\n",
       "      <th>4</th>\n",
       "      <td>711000.0</td>\n",
       "      <td>3.0</td>\n",
       "      <td>2.50</td>\n",
       "      <td>2550.0</td>\n",
       "      <td>5376.0</td>\n",
       "      <td>2.0</td>\n",
       "      <td>0.0</td>\n",
       "      <td>0.0</td>\n",
       "      <td>3.0</td>\n",
       "      <td>9.0</td>\n",
       "      <td>2550.0</td>\n",
       "      <td>0.0</td>\n",
       "      <td>2004.0</td>\n",
       "      <td>0.0</td>\n",
       "      <td>98052.0</td>\n",
       "      <td>47.6647</td>\n",
       "      <td>-122.083</td>\n",
       "    </tr>\n",
       "    <tr>\n",
       "      <th>...</th>\n",
       "      <td>...</td>\n",
       "      <td>...</td>\n",
       "      <td>...</td>\n",
       "      <td>...</td>\n",
       "      <td>...</td>\n",
       "      <td>...</td>\n",
       "      <td>...</td>\n",
       "      <td>...</td>\n",
       "      <td>...</td>\n",
       "      <td>...</td>\n",
       "      <td>...</td>\n",
       "      <td>...</td>\n",
       "      <td>...</td>\n",
       "      <td>...</td>\n",
       "      <td>...</td>\n",
       "      <td>...</td>\n",
       "      <td>...</td>\n",
       "    </tr>\n",
       "    <tr>\n",
       "      <th>17285</th>\n",
       "      <td>750000.0</td>\n",
       "      <td>5.0</td>\n",
       "      <td>2.50</td>\n",
       "      <td>3240.0</td>\n",
       "      <td>9960.0</td>\n",
       "      <td>1.0</td>\n",
       "      <td>0.0</td>\n",
       "      <td>1.0</td>\n",
       "      <td>3.0</td>\n",
       "      <td>8.0</td>\n",
       "      <td>2020.0</td>\n",
       "      <td>1220.0</td>\n",
       "      <td>1958.0</td>\n",
       "      <td>0.0</td>\n",
       "      <td>98008.0</td>\n",
       "      <td>47.5858</td>\n",
       "      <td>-122.112</td>\n",
       "    </tr>\n",
       "    <tr>\n",
       "      <th>17286</th>\n",
       "      <td>440000.0</td>\n",
       "      <td>2.0</td>\n",
       "      <td>1.75</td>\n",
       "      <td>1300.0</td>\n",
       "      <td>4000.0</td>\n",
       "      <td>2.0</td>\n",
       "      <td>0.0</td>\n",
       "      <td>0.0</td>\n",
       "      <td>3.0</td>\n",
       "      <td>7.0</td>\n",
       "      <td>1300.0</td>\n",
       "      <td>0.0</td>\n",
       "      <td>1948.0</td>\n",
       "      <td>0.0</td>\n",
       "      <td>98105.0</td>\n",
       "      <td>47.6687</td>\n",
       "      <td>-122.288</td>\n",
       "    </tr>\n",
       "    <tr>\n",
       "      <th>17287</th>\n",
       "      <td>310000.0</td>\n",
       "      <td>3.0</td>\n",
       "      <td>1.00</td>\n",
       "      <td>1050.0</td>\n",
       "      <td>9876.0</td>\n",
       "      <td>1.0</td>\n",
       "      <td>0.0</td>\n",
       "      <td>0.0</td>\n",
       "      <td>3.0</td>\n",
       "      <td>7.0</td>\n",
       "      <td>1050.0</td>\n",
       "      <td>0.0</td>\n",
       "      <td>1953.0</td>\n",
       "      <td>0.0</td>\n",
       "      <td>98028.0</td>\n",
       "      <td>47.7635</td>\n",
       "      <td>-122.262</td>\n",
       "    </tr>\n",
       "    <tr>\n",
       "      <th>17288</th>\n",
       "      <td>427500.0</td>\n",
       "      <td>3.0</td>\n",
       "      <td>1.50</td>\n",
       "      <td>1900.0</td>\n",
       "      <td>43186.0</td>\n",
       "      <td>1.5</td>\n",
       "      <td>0.0</td>\n",
       "      <td>0.0</td>\n",
       "      <td>4.0</td>\n",
       "      <td>7.0</td>\n",
       "      <td>1300.0</td>\n",
       "      <td>600.0</td>\n",
       "      <td>1971.0</td>\n",
       "      <td>0.0</td>\n",
       "      <td>98038.0</td>\n",
       "      <td>47.4199</td>\n",
       "      <td>-121.990</td>\n",
       "    </tr>\n",
       "    <tr>\n",
       "      <th>17289</th>\n",
       "      <td>348000.0</td>\n",
       "      <td>3.0</td>\n",
       "      <td>1.50</td>\n",
       "      <td>1330.0</td>\n",
       "      <td>6768.0</td>\n",
       "      <td>1.0</td>\n",
       "      <td>0.0</td>\n",
       "      <td>0.0</td>\n",
       "      <td>4.0</td>\n",
       "      <td>7.0</td>\n",
       "      <td>1330.0</td>\n",
       "      <td>0.0</td>\n",
       "      <td>1952.0</td>\n",
       "      <td>0.0</td>\n",
       "      <td>98155.0</td>\n",
       "      <td>47.7366</td>\n",
       "      <td>-122.319</td>\n",
       "    </tr>\n",
       "  </tbody>\n",
       "</table>\n",
       "<p>17290 rows × 17 columns</p>\n",
       "</div>"
      ],
      "text/plain": [
       "           price  bedrooms  bathrooms  sqft_living  sqft_lot  floors  \\\n",
       "0       365000.0       4.0       2.25       2070.0    8893.0     2.0   \n",
       "1       865000.0       5.0       3.00       2900.0    6730.0     1.0   \n",
       "2      1038000.0       4.0       2.50       3770.0   10893.0     2.0   \n",
       "3      1490000.0       3.0       3.50       4560.0   14608.0     2.0   \n",
       "4       711000.0       3.0       2.50       2550.0    5376.0     2.0   \n",
       "...          ...       ...        ...          ...       ...     ...   \n",
       "17285   750000.0       5.0       2.50       3240.0    9960.0     1.0   \n",
       "17286   440000.0       2.0       1.75       1300.0    4000.0     2.0   \n",
       "17287   310000.0       3.0       1.00       1050.0    9876.0     1.0   \n",
       "17288   427500.0       3.0       1.50       1900.0   43186.0     1.5   \n",
       "17289   348000.0       3.0       1.50       1330.0    6768.0     1.0   \n",
       "\n",
       "       waterfront  view  condition  grade  sqft_above  sqft_basement  \\\n",
       "0             0.0   0.0        4.0    8.0      2070.0            0.0   \n",
       "1             0.0   0.0        5.0    8.0      1830.0         1070.0   \n",
       "2             0.0   2.0        3.0   11.0      3770.0            0.0   \n",
       "3             0.0   2.0        3.0   12.0      4560.0            0.0   \n",
       "4             0.0   0.0        3.0    9.0      2550.0            0.0   \n",
       "...           ...   ...        ...    ...         ...            ...   \n",
       "17285         0.0   1.0        3.0    8.0      2020.0         1220.0   \n",
       "17286         0.0   0.0        3.0    7.0      1300.0            0.0   \n",
       "17287         0.0   0.0        3.0    7.0      1050.0            0.0   \n",
       "17288         0.0   0.0        4.0    7.0      1300.0          600.0   \n",
       "17289         0.0   0.0        4.0    7.0      1330.0            0.0   \n",
       "\n",
       "       yr_built  yr_renovated  zipcode      lat     long  \n",
       "0        1986.0           0.0  98058.0  47.4388 -122.162  \n",
       "1        1977.0           0.0  98115.0  47.6784 -122.285  \n",
       "2        1997.0           0.0  98006.0  47.5646 -122.129  \n",
       "3        1990.0           0.0  98034.0  47.6995 -122.228  \n",
       "4        2004.0           0.0  98052.0  47.6647 -122.083  \n",
       "...         ...           ...      ...      ...      ...  \n",
       "17285    1958.0           0.0  98008.0  47.5858 -122.112  \n",
       "17286    1948.0           0.0  98105.0  47.6687 -122.288  \n",
       "17287    1953.0           0.0  98028.0  47.7635 -122.262  \n",
       "17288    1971.0           0.0  98038.0  47.4199 -121.990  \n",
       "17289    1952.0           0.0  98155.0  47.7366 -122.319  \n",
       "\n",
       "[17290 rows x 17 columns]"
      ]
     },
     "execution_count": 143,
     "metadata": {},
     "output_type": "execute_result"
    }
   ],
   "source": [
    "hnj3.apply(cap_ba_bd, axis = 1) "
   ]
  },
  {
   "cell_type": "code",
   "execution_count": 144,
   "metadata": {},
   "outputs": [
    {
     "name": "stdout",
     "output_type": "stream",
     "text": [
      "Training:  203869 vs. Testing:  211470\n"
     ]
    }
   ],
   "source": [
    "model_test(hnj3, test_feat, target)"
   ]
  },
  {
   "cell_type": "code",
   "execution_count": 145,
   "metadata": {},
   "outputs": [],
   "source": [
    "clean_data = hnj3.copy()"
   ]
  },
  {
   "cell_type": "markdown",
   "metadata": {},
   "source": [
    "## Step 4: Created new features.\n",
    "\n",
    "At this stage I will create new features based off of what seems worth looking into from the visuals."
   ]
  },
  {
   "cell_type": "code",
   "execution_count": 146,
   "metadata": {},
   "outputs": [],
   "source": [
    "#Calculates the distance to a popular park in seattle and creates the column \n",
    "clean_data['distance_to_gas_works'] = np.nan\n",
    "def dist_to_gas_work(row): \n",
    "    gas_works_park = (47.6456, -122.3344) \n",
    "    coord = (row['lat'], row['long']) \n",
    "    dist = distance(gas_works_park, coord).miles \n",
    "    row['distance_to_gas_works'] = (round((dist), 2))\n",
    "    return row \n",
    "\n",
    "clean_data = clean_data.apply(dist_to_gas_work, axis = 1)"
   ]
  },
  {
   "cell_type": "code",
   "execution_count": 147,
   "metadata": {},
   "outputs": [],
   "source": [
    "#Calculates the ratio of bedrooms to bathrooms\n",
    "clean_data['bath_to_bed'] = np.nan\n",
    "def b_b_column(row): \n",
    "    if row['bedrooms'] == 0: \n",
    "         bath_bed = row['bathrooms']/1\n",
    "    else:\n",
    "        bath_bed = row['bathrooms']/row['bedrooms'] \n",
    "    ratio_ab = abs(bath_bed) \n",
    "    row['bath_to_bed'] = ratio_ab \n",
    "    return row \n",
    "clean_data = clean_data.apply(b_b_column, axis = 1)"
   ]
  },
  {
   "cell_type": "code",
   "execution_count": 148,
   "metadata": {},
   "outputs": [],
   "source": [
    "#Creates a binary column that denotes whether a home has the golden ratio (or is within 10% of it)\n",
    "clean_data['golden_ratio'] = np.nan\n",
    "def golden_ratio(row): \n",
    "    golden_ratio = 2/3\n",
    "    golden_ratio_u = golden_ratio + (golden_ratio*.10) \n",
    "    golden_ratio_l = golden_ratio - (golden_ratio*.10) \n",
    "    if row['bath_to_bed'] >= golden_ratio_l:\n",
    "        if row['bath_to_bed'] <= golden_ratio_u: \n",
    "            row['golden_ratio'] = 1  \n",
    "        else: \n",
    "            row['golden_ratio'] = 0 \n",
    "    else: \n",
    "        row['golden_ratio'] = 0 \n",
    "    return row \n",
    "\n",
    "clean_data = clean_data.apply(golden_ratio, axis = 1)"
   ]
  },
  {
   "cell_type": "code",
   "execution_count": 149,
   "metadata": {},
   "outputs": [],
   "source": [
    "#Creates a populates a sqft living to lot ration \n",
    "clean_data['sqft_li_to_sqft_lo'] = np.nan\n",
    "def li_lo_column(row): \n",
    "    living__to_lot = row['sqft_living']/row['sqft_lot']\n",
    "    ratio_ab = abs(living__to_lot) \n",
    "    row['sqft_li_to_sqft_lo'] = ratio_ab \n",
    "    return row  \n",
    "clean_data = clean_data.apply(li_lo_column, axis = 1)"
   ]
  },
  {
   "cell_type": "code",
   "execution_count": 150,
   "metadata": {},
   "outputs": [],
   "source": [
    "#Creates and populates a new row tha combine grade and condition while slightly weighing grade by 25%\n",
    "clean_data['score'] = np.nan\n",
    "def grade_n_cond(row): \n",
    "    new_grade = row['grade']*1.25\n",
    "    score = new_grade + row['condition']\n",
    "    row['score'] = score \n",
    "    return row \n",
    "clean_data = clean_data.apply(grade_n_cond, axis = 1)"
   ]
  },
  {
   "cell_type": "code",
   "execution_count": 151,
   "metadata": {},
   "outputs": [],
   "source": [
    "#Creates and populates a new column that shows when the house was last changed whether it was when it was built or renovated\n",
    "clean_data['year_updated'] = np.nan\n",
    "def year_changed(row): \n",
    "    if row['yr_renovated'] > 1:\n",
    "        row['year_updated'] = row['yr_renovated']  \n",
    "    else: \n",
    "        row['year_updated'] = row['yr_built']\n",
    "    return row \n",
    "clean_data = clean_data.apply(year_changed, axis = 1)"
   ]
  },
  {
   "cell_type": "code",
   "execution_count": 153,
   "metadata": {},
   "outputs": [],
   "source": [
    "#Creates a binary based on whether or not a home has a basement by noting if it includes a number in higher zero in the sqft_basement column\n",
    "clean_data['basement'] = clean_data['sqft_basement'].map(lambda x : 1 if x != 0 else 0) "
   ]
  },
  {
   "cell_type": "code",
   "execution_count": 154,
   "metadata": {},
   "outputs": [],
   "source": [
    "#Catagorizes homes by number of bedrooms \n",
    "clean_data['home_category'] = np.nan\n",
    "def home_cat(row): \n",
    "    if row['bedrooms'] < 2:\n",
    "        row['home_category'] = 'starter'  \n",
    "    elif row['bedrooms'] < 5: \n",
    "        row['home_category'] = 'small_family' \n",
    "    elif row['bedrooms'] < 9: \n",
    "        row['home_category'] = 'large_family'\n",
    "    else:\n",
    "        row['bedrooms'] >= 9\n",
    "        row['home_category'] = 'mansion'\n",
    "    return row \n",
    "clean_data = clean_data.apply(home_cat, axis = 1)"
   ]
  },
  {
   "cell_type": "code",
   "execution_count": 155,
   "metadata": {},
   "outputs": [],
   "source": [
    "#Catagorizes home based on score \n",
    "clean_data['score_cat'] = np.nan\n",
    "def score_cat(row): \n",
    "    if row['score'] <= 11.5:\n",
    "        row['score_cat'] = 'low'  \n",
    "    elif row['score'] <= 12: \n",
    "        row['score_cat'] = 'low_mid' \n",
    "    elif row['score'] <= 13: \n",
    "        row['score_cat'] = 'high_mid'\n",
    "    else:\n",
    "        row['score_cat'] = 'high_end'\n",
    "    return row \n",
    "clean_data = clean_data.apply(score_cat, axis = 1)"
   ]
  },
  {
   "cell_type": "code",
   "execution_count": 156,
   "metadata": {},
   "outputs": [],
   "source": [
    "#Calculates the last year updated from either year built or year renovated and populates it\n",
    "clean_data['years_since_updated'] = np.nan\n",
    "def years_old(row):  \n",
    "    age = 2021 - row['year_updated'] \n",
    "    if age < 1: \n",
    "        row['years_since_updated'] = 1 \n",
    "    else: \n",
    "        row['years_since_updated'] = age\n",
    "    return row \n",
    "clean_data = clean_data.apply(years_old, axis = 1)"
   ]
  },
  {
   "cell_type": "code",
   "execution_count": 158,
   "metadata": {},
   "outputs": [
    {
     "name": "stdout",
     "output_type": "stream",
     "text": [
      "Training:  188836 vs. Testing:  198174\n"
     ]
    }
   ],
   "source": [
    "#Test the model once again \n",
    "test_feat = ['zipcode', 'bedrooms', 'bathrooms', 'years_since_updated',\n",
    "       'sqft_living', 'sqft_lot', 'floors', 'waterfront', 'view', 'condition', 'sqft_above', \n",
    "               'sqft_basement', 'yr_built', 'yr_renovated','lat', 'long', 'distance_to_gas_works', 'bath_to_bed', \n",
    "            'golden_ratio', 'sqft_li_to_sqft_lo','score','year_updated','basement'] \n",
    "\n",
    "model_test(clean_data, test_feat, target)"
   ]
  },
  {
   "cell_type": "code",
   "execution_count": 159,
   "metadata": {},
   "outputs": [],
   "source": [
    "clean_data2 = clean_data.copy()"
   ]
  },
  {
   "cell_type": "code",
   "execution_count": 160,
   "metadata": {},
   "outputs": [],
   "source": [
    "#drop columns that are no longer needed because new features have been created\n",
    "def drop_uneeded_columns2(df): \n",
    "    unwanted_columns_lists= ['condition',\n",
    "       'grade', 'sqft_above', 'sqft_basement', 'yr_built', 'yr_renovated',\n",
    "        'long', 'lat'] \n",
    "    for c in unwanted_columns_lists: \n",
    "        del df[c]  \n",
    "drop_uneeded_columns2(clean_data2)        "
   ]
  },
  {
   "cell_type": "markdown",
   "metadata": {},
   "source": [
    "### 4.1) Dummy features \n",
    "Having created simple features I will now start more complex features with dummy variables."
   ]
  },
  {
   "cell_type": "code",
   "execution_count": 161,
   "metadata": {},
   "outputs": [],
   "source": [
    "#creates a copy of the dataset to work from \n",
    "pf_data = clean_data2.copy()"
   ]
  },
  {
   "cell_type": "code",
   "execution_count": 163,
   "metadata": {},
   "outputs": [
    {
     "name": "stdout",
     "output_type": "stream",
     "text": [
      "Training:  194145 vs. Testing:  204797\n"
     ]
    }
   ],
   "source": [
    "test_feat = ['zipcode', 'bedrooms', 'bathrooms','sqft_living', 'sqft_lot', 'floors', 'waterfront', \n",
    "             'view','distance_to_gas_works', 'bath_to_bed', 'years_since_updated',\n",
    "            'golden_ratio', 'sqft_li_to_sqft_lo','score','year_updated','basement'] \n",
    "\n",
    "model_test(pf_data, test_feat, target)"
   ]
  },
  {
   "cell_type": "code",
   "execution_count": 164,
   "metadata": {},
   "outputs": [],
   "source": [
    "#Turns out home category into dummy variables and drops the original column\n",
    "pf_data = pd.concat([pf_data, pd.get_dummies(pf_data['home_category'])], 1) \n",
    "pf_data = pf_data.drop(columns = 'home_category') \n",
    "\n",
    "#Turns our score categories into dummy variables and drops the original column\n",
    "pf_data = pd.concat([pf_data, pd.get_dummies(pf_data['score_cat'])], 1)   \n",
    "pf_data = pf_data.drop(columns = 'score_cat') \n",
    "\n",
    "#Turns zipcodes into dummy variables and drops original columns\n",
    "pf_data = pd.concat([pf_data, pd.get_dummies(pf_data['zipcode'])], 1)  \n",
    "pf_data = pf_data.drop(columns = 'zipcode')"
   ]
  },
  {
   "cell_type": "code",
   "execution_count": 166,
   "metadata": {},
   "outputs": [
    {
     "name": "stdout",
     "output_type": "stream",
     "text": [
      "Training:  156620 vs. Testing:  164606\n"
     ]
    }
   ],
   "source": [
    "test_feat=  [ 'years_since_updated',\n",
    "                                 \n",
    "                    'bedrooms',             'bathrooms',\n",
    "                 'sqft_living',              'sqft_lot',\n",
    "                      'floors',            'waterfront',\n",
    "                        'view', 'distance_to_gas_works',\n",
    "                 'bath_to_bed',          'golden_ratio',\n",
    "          'sqft_li_to_sqft_lo',                 'score',\n",
    "                'year_updated',              'basement',\n",
    "                'large_family',               'mansion',\n",
    "                'small_family',               'starter',\n",
    "                    'high_end',              'high_mid',\n",
    "                         'low',               'low_mid',\n",
    "                       98001.0,                 98002.0,\n",
    "                       98003.0,                 98004.0,\n",
    "                       98005.0,                 98006.0,\n",
    "                       98007.0,                 98008.0,\n",
    "                       98010.0,                 98011.0,\n",
    "                       98014.0,                 98019.0,\n",
    "                       98022.0,                 98023.0,\n",
    "                       98024.0,                 98027.0,\n",
    "                       98028.0,                 98029.0,\n",
    "                       98030.0,                 98031.0,\n",
    "                       98032.0,                 98033.0,\n",
    "                       98034.0,                 98038.0,\n",
    "                       98039.0,                 98040.0,\n",
    "                       98042.0,                 98045.0,\n",
    "                       98052.0,                 98053.0,\n",
    "                       98055.0,                 98056.0,\n",
    "                       98058.0,                 98059.0,\n",
    "                       98065.0,                 98070.0,\n",
    "                       98072.0,                 98074.0,\n",
    "                       98075.0,                 98077.0,\n",
    "                       98092.0,                 98102.0,\n",
    "                       98103.0,                 98105.0,\n",
    "                       98106.0,                 98107.0,\n",
    "                       98108.0,                 98109.0,\n",
    "                       98112.0,                 98115.0,\n",
    "                       98116.0,                 98117.0,\n",
    "                       98118.0,                 98119.0,\n",
    "                       98122.0,                 98125.0,\n",
    "                       98126.0,                 98133.0,\n",
    "                       98136.0,                 98144.0,\n",
    "                       98146.0,                 98148.0,\n",
    "                       98155.0,                 98166.0,\n",
    "                       98168.0,                 98177.0,\n",
    "                       98178.0,                 98188.0,\n",
    "                       98198.0,                 98199.0] \n",
    "\n",
    "\n",
    "\n",
    "model_test(pf_data, test_feat, target)"
   ]
  },
  {
   "cell_type": "markdown",
   "metadata": {},
   "source": [
    "### 4.2) Non linear variable \n",
    "I now move on to non- linear creations."
   ]
  },
  {
   "cell_type": "code",
   "execution_count": 168,
   "metadata": {},
   "outputs": [],
   "source": [
    "pf_data2 = pf_data.copy()"
   ]
  },
  {
   "cell_type": "code",
   "execution_count": 169,
   "metadata": {},
   "outputs": [],
   "source": [
    "#Creates polynomial features \n",
    "pf_data2['sqft_li_to_sqft_lo_score'] = pf_data2['score'] * pf_data2['sqft_li_to_sqft_lo'] \n",
    "pf_data2['score^2'] = pf_data2['score'] * pf_data2['score'] "
   ]
  },
  {
   "cell_type": "code",
   "execution_count": 172,
   "metadata": {},
   "outputs": [
    {
     "name": "stdout",
     "output_type": "stream",
     "text": [
      "Training:  150786 vs. Testing:  159576\n"
     ]
    }
   ],
   "source": [
    "column_test = [ 'years_since_updated',                \n",
    "                    'bedrooms',             'bathrooms',\n",
    "                 'sqft_living',              'sqft_lot',\n",
    "                      'floors',            'waterfront',\n",
    "                        'view', 'distance_to_gas_works',\n",
    "                 'bath_to_bed',          'golden_ratio',\n",
    "          'sqft_li_to_sqft_lo',                 'score',\n",
    "                'year_updated',              'basement',\n",
    "                'large_family',               'mansion',\n",
    "                'small_family',               'starter',\n",
    "                    'high_end',              'high_mid',\n",
    "                         'low',               'low_mid',\n",
    "                       98001.0,                 98002.0,\n",
    "                       98003.0,                 98004.0,\n",
    "                       98005.0,                 98006.0,\n",
    "                       98007.0,                 98008.0,\n",
    "                       98010.0,                 98011.0,\n",
    "                       98014.0,                 98019.0,\n",
    "                       98022.0,                 98023.0,\n",
    "                       98024.0,                 98027.0,\n",
    "                       98028.0,                 98029.0,\n",
    "                       98030.0,                 98031.0,\n",
    "                       98032.0,                 98033.0,\n",
    "                       98034.0,                 98038.0,\n",
    "                       98039.0,                 98040.0,\n",
    "                       98042.0,                 98045.0,\n",
    "                       98052.0,                 98053.0,\n",
    "                       98055.0,                 98056.0,\n",
    "                       98058.0,                 98059.0,\n",
    "                       98065.0,                 98070.0,\n",
    "                       98072.0,                 98074.0,\n",
    "                       98075.0,                 98077.0,\n",
    "                       98092.0,                 98102.0,\n",
    "                       98103.0,                 98105.0,\n",
    "                       98106.0,                 98107.0,\n",
    "                       98108.0,                 98109.0,\n",
    "                       98112.0,                 98115.0,\n",
    "                       98116.0,                 98117.0,\n",
    "                       98118.0,                 98119.0,\n",
    "                       98122.0,                 98125.0,\n",
    "                       98126.0,                 98133.0,\n",
    "                       98136.0,                 98144.0,\n",
    "                       98146.0,                 98148.0,\n",
    "                       98155.0,                 98166.0,\n",
    "                       98168.0,                 98177.0,\n",
    "                       98178.0,                 98188.0,\n",
    "                       98198.0,                 98199.0, \n",
    "              'sqft_li_to_sqft_lo_score',                         'score^2',\n",
    "                        ] \n",
    "\n",
    "model_test(pf_data2, column_test, 'price') "
   ]
  },
  {
   "cell_type": "code",
   "execution_count": 173,
   "metadata": {},
   "outputs": [],
   "source": [
    "pf_data3 = pf_data2.copy()"
   ]
  },
  {
   "cell_type": "markdown",
   "metadata": {},
   "source": [
    "### 4.3) Creating interactions \n",
    "Becuase these will affect my split testing I will handle these separely here"
   ]
  },
  {
   "cell_type": "code",
   "execution_count": 174,
   "metadata": {},
   "outputs": [],
   "source": [
    "all_feats = pf_data3.copy()"
   ]
  },
  {
   "cell_type": "code",
   "execution_count": 175,
   "metadata": {},
   "outputs": [],
   "source": [
    "#Creates interaction between sqft_living and basement binary value\n",
    "\n",
    "all_feats['s_b_b'] = all_feats['basement'] * all_feats['sqft_living'] \n",
    "\n",
    "#Creates interaction between waterfront and sqft_living\n",
    "\n",
    "all_feats['w_b_s'] = all_feats['waterfront'] * all_feats['sqft_living']"
   ]
  },
  {
   "cell_type": "code",
   "execution_count": 176,
   "metadata": {},
   "outputs": [
    {
     "name": "stdout",
     "output_type": "stream",
     "text": [
      "Training:  143469 vs. Testing:  156381\n"
     ]
    }
   ],
   "source": [
    "feat_test =  [ 'years_since_updated',  's_b_b','w_b_s',              \n",
    "                    'bedrooms',             'bathrooms',\n",
    "                 'sqft_living',              'sqft_lot',\n",
    "                      'floors',            'waterfront',\n",
    "                        'view', 'distance_to_gas_works',\n",
    "                 'bath_to_bed',          'golden_ratio',\n",
    "          'sqft_li_to_sqft_lo',                 'score',\n",
    "                'year_updated',              'basement',\n",
    "                'large_family',               'mansion',\n",
    "                'small_family',               'starter',\n",
    "                    'high_end',              'high_mid',\n",
    "                         'low',               'low_mid',\n",
    "                       98001.0,                 98002.0,\n",
    "                       98003.0,                 98004.0,\n",
    "                       98005.0,                 98006.0,\n",
    "                       98007.0,                 98008.0,\n",
    "                       98010.0,                 98011.0,\n",
    "                       98014.0,                 98019.0,\n",
    "                       98022.0,                 98023.0,\n",
    "                       98024.0,                 98027.0,\n",
    "                       98028.0,                 98029.0,\n",
    "                       98030.0,                 98031.0,\n",
    "                       98032.0,                 98033.0,\n",
    "                       98034.0,                 98038.0,\n",
    "                       98039.0,                 98040.0,\n",
    "                       98042.0,                 98045.0,\n",
    "                       98052.0,                 98053.0,\n",
    "                       98055.0,                 98056.0,\n",
    "                       98058.0,                 98059.0,\n",
    "                       98065.0,                 98070.0,\n",
    "                       98072.0,                 98074.0,\n",
    "                       98075.0,                 98077.0,\n",
    "                       98092.0,                 98102.0,\n",
    "                       98103.0,                 98105.0,\n",
    "                       98106.0,                 98107.0,\n",
    "                       98108.0,                 98109.0,\n",
    "                       98112.0,                 98115.0,\n",
    "                       98116.0,                 98117.0,\n",
    "                       98118.0,                 98119.0,\n",
    "                       98122.0,                 98125.0,\n",
    "                       98126.0,                 98133.0,\n",
    "                       98136.0,                 98144.0,\n",
    "                       98146.0,                 98148.0,\n",
    "                       98155.0,                 98166.0,\n",
    "                       98168.0,                 98177.0,\n",
    "                       98178.0,                 98188.0,\n",
    "                       98198.0,                 98199.0, \n",
    "              'sqft_li_to_sqft_lo_score',                         'score^2',\n",
    "                        ] \n",
    " \n",
    "\n",
    "model_test(all_feats, feat_test, target)  "
   ]
  },
  {
   "cell_type": "markdown",
   "metadata": {},
   "source": [
    "## Step 5: Train-Test Splitting\n",
    "\n",
    "Now that I have all the features I want to test I am ready to begin testing."
   ]
  },
  {
   "cell_type": "code",
   "execution_count": 180,
   "metadata": {},
   "outputs": [],
   "source": [
    "#First I will create my list of non scaled features\n",
    "\n",
    "af_list =  [ 'years_since_updated',  's_b_b','w_b_s',              \n",
    "                    'bedrooms',             'bathrooms',\n",
    "                 'sqft_living',              'sqft_lot',\n",
    "                      'floors',            'waterfront',\n",
    "                        'view', 'distance_to_gas_works',\n",
    "                 'bath_to_bed',          'golden_ratio',\n",
    "          'sqft_li_to_sqft_lo',                \n",
    "                'year_updated',              'basement',\n",
    "                'large_family',               'mansion',\n",
    "                'small_family',               'starter',\n",
    "                    'high_end',              'high_mid',\n",
    "                         'low',               'low_mid',\n",
    "                       98001.0,                 98002.0,\n",
    "                       98003.0,                 98004.0,\n",
    "                       98005.0,                 98006.0,\n",
    "                       98007.0,                 98008.0,\n",
    "                       98010.0,                 98011.0,\n",
    "                       98014.0,                 98019.0,\n",
    "                       98022.0,                 98023.0,\n",
    "                       98024.0,                 98027.0,\n",
    "                       98028.0,                 98029.0,\n",
    "                       98030.0,                 98031.0,\n",
    "                       98032.0,                 98033.0,\n",
    "                       98034.0,                 98038.0,\n",
    "                       98039.0,                 98040.0,\n",
    "                       98042.0,                 98045.0,\n",
    "                       98052.0,                 98053.0,\n",
    "                       98055.0,                 98056.0,\n",
    "                       98058.0,                 98059.0,\n",
    "                       98065.0,                 98070.0,\n",
    "                       98072.0,                 98074.0,\n",
    "                       98075.0,                 98077.0,\n",
    "                       98092.0,                 98102.0,\n",
    "                       98103.0,                 98105.0,\n",
    "                       98106.0,                 98107.0,\n",
    "                       98108.0,                 98109.0,\n",
    "                       98112.0,                 98115.0,\n",
    "                       98116.0,                 98117.0,\n",
    "                       98118.0,                 98119.0,\n",
    "                       98122.0,                 98125.0,\n",
    "                       98126.0,                 98133.0,\n",
    "                       98136.0,                 98144.0,\n",
    "                       98146.0,                 98148.0,\n",
    "                       98155.0,                 98166.0,\n",
    "                       98168.0,                 98177.0,\n",
    "                       98178.0,                 98188.0,\n",
    "                       98198.0,                 98199.0, \n",
    "              'sqft_li_to_sqft_lo_score',                         'score^2',\n",
    "                        ]   \n",
    "\n",
    "s_feats = ['sqft_li_to_sqft_lo_score', 'score^2', 'years_since_updated',  's_b_b','w_b_s',              \n",
    "            'bedrooms','bathrooms','sqft_living','sqft_lot', 'distance_to_gas_works',\n",
    "            'bath_to_bed','golden_ratio','sqft_li_to_sqft_lo' ] \n",
    "\n",
    "\n",
    "\n",
    "target = all_feats['price']"
   ]
  },
  {
   "cell_type": "code",
   "execution_count": 181,
   "metadata": {},
   "outputs": [],
   "source": [
    "x_train, x_test, y_train, y_test = train_test_split(all_feats, target, random_state=3,test_size=0.2)"
   ]
  },
  {
   "cell_type": "code",
   "execution_count": 183,
   "metadata": {},
   "outputs": [],
   "source": [
    "#set scaler\n",
    "scaler = StandardScaler()\n",
    "\n",
    "# fit the scaler to the training data\n",
    "scaler.fit(x_train[s_feats])\n",
    "\n",
    "#transform the training data\n",
    "scaled_data = scaler.transform(x_train[s_feats])"
   ]
  },
  {
   "cell_type": "code",
   "execution_count": 184,
   "metadata": {},
   "outputs": [],
   "source": [
    "#create dataframe\n",
    "x_train_scaled = pd.DataFrame(data=scaled_data, columns=s_feats,index=x_train.index) "
   ]
  },
  {
   "cell_type": "code",
   "execution_count": 185,
   "metadata": {},
   "outputs": [],
   "source": [
    "not_scaled = [x for x in af_list if x not in s_feats] "
   ]
  },
  {
   "cell_type": "code",
   "execution_count": 186,
   "metadata": {},
   "outputs": [],
   "source": [
    "x_train = pd.concat([x_train_scaled, x_train[not_scaled]], axis=1)"
   ]
  },
  {
   "cell_type": "code",
   "execution_count": 187,
   "metadata": {},
   "outputs": [],
   "source": [
    "#transform the training data\n",
    "scaled_data = scaler.transform(x_test[s_feats])\n",
    "\n",
    "#create dataframe\n",
    "x_test_scaled = pd.DataFrame(data=scaled_data, columns=s_feats, index=x_test.index)\n"
   ]
  },
  {
   "cell_type": "code",
   "execution_count": 188,
   "metadata": {},
   "outputs": [],
   "source": [
    "x_test = pd.concat([x_test_scaled, x_test[not_scaled]], axis=1)"
   ]
  },
  {
   "cell_type": "code",
   "execution_count": 189,
   "metadata": {},
   "outputs": [
    {
     "name": "stdout",
     "output_type": "stream",
     "text": [
      "1.4683925592175987e+17\n",
      "[ 2.09966447e+05  1.27124383e+05 -2.14300481e+15  3.25518175e+04\n",
      "  1.00910779e+05 -3.91316648e+04  5.98269524e+04  1.39084780e+05\n",
      "  8.35951091e+03 -8.43651875e+04 -3.72552500e+04 -7.14490625e+03\n",
      " -2.30166500e+05 -4.03968750e+03 -3.05311102e+05  4.94625938e+04\n",
      " -7.45250793e+13 -8.31428750e+04  4.59016610e+13  4.59016609e+13\n",
      "  4.59016610e+13  4.59016611e+13  1.71685869e+14  1.71685869e+14\n",
      "  1.71685869e+14  1.71685869e+14 -2.07884520e+12 -2.07884518e+12\n",
      " -2.07884521e+12 -2.07884460e+12 -2.07884506e+12 -2.07884508e+12\n",
      " -2.07884509e+12 -2.07884508e+12 -2.07884511e+12 -2.07884520e+12\n",
      " -2.07884511e+12 -2.07884516e+12 -2.07884509e+12 -2.07884523e+12\n",
      " -2.07884506e+12 -2.07884509e+12 -2.07884522e+12 -2.07884504e+12\n",
      " -2.07884523e+12 -2.07884524e+12 -2.07884524e+12 -2.07884502e+12\n",
      " -2.07884516e+12 -2.07884516e+12 -2.07884408e+12 -2.07884491e+12\n",
      " -2.07884520e+12 -2.07884504e+12 -2.07884508e+12 -2.07884507e+12\n",
      " -2.07884524e+12 -2.07884523e+12 -2.07884524e+12 -2.07884520e+12\n",
      " -2.07884508e+12 -2.07884520e+12 -2.07884515e+12 -2.07884511e+12\n",
      " -2.07884510e+12 -2.07884517e+12 -2.07884520e+12 -2.07884488e+12\n",
      " -2.07884505e+12 -2.07884490e+12 -2.07884522e+12 -2.07884503e+12\n",
      " -2.07884523e+12 -2.07884490e+12 -2.07884478e+12 -2.07884505e+12\n",
      " -2.07884506e+12 -2.07884506e+12 -2.07884518e+12 -2.07884491e+12\n",
      " -2.07884504e+12 -2.07884518e+12 -2.07884516e+12 -2.07884521e+12\n",
      " -2.07884506e+12 -2.07884508e+12 -2.07884522e+12 -2.07884524e+12\n",
      " -2.07884522e+12 -2.07884524e+12 -2.07884528e+12 -2.07884513e+12\n",
      " -2.07884529e+12 -2.07884527e+12 -2.07884525e+12 -2.07884502e+12]\n"
     ]
    }
   ],
   "source": [
    "# fit a model\n",
    "from sklearn import linear_model\n",
    "\n",
    "#instantiate a linear regression object\n",
    "lm = linear_model.LinearRegression()\n",
    "\n",
    "#fit the linear regression to the data\n",
    "lm = lm.fit(x_train, y_train)\n",
    "\n",
    "\n",
    "print(lm.intercept_)\n",
    "print(lm.coef_)"
   ]
  },
  {
   "cell_type": "code",
   "execution_count": 190,
   "metadata": {},
   "outputs": [],
   "source": [
    "y_train_pred = lm.predict(x_train)\n",
    "\n",
    "y_test_pred = lm.predict(x_test)"
   ]
  },
  {
   "cell_type": "code",
   "execution_count": 191,
   "metadata": {},
   "outputs": [
    {
     "name": "stdout",
     "output_type": "stream",
     "text": [
      "Training Root Mean Squared Error: 146157.5433309792\n",
      "Testing Root Mean Squared Error: 155551.11794644906\n"
     ]
    }
   ],
   "source": [
    "train_rmse = np.sqrt(metrics.mean_squared_error(y_train, y_train_pred))\n",
    "\n",
    "test_rmse = np.sqrt(metrics.mean_squared_error(y_test, y_test_pred))\n",
    "\n",
    "print('Training Root Mean Squared Error:' , train_rmse)\n",
    "print('Testing Root Mean Squared Error:' , test_rmse)"
   ]
  },
  {
   "cell_type": "code",
   "execution_count": 192,
   "metadata": {},
   "outputs": [
    {
     "name": "stdout",
     "output_type": "stream",
     "text": [
      "Perfomance : 6 %\n"
     ]
    }
   ],
   "source": [
    "print('Perfomance : {} %'.format(round(abs((test_rmse-train_rmse)/train_rmse)*100)))"
   ]
  },
  {
   "cell_type": "markdown",
   "metadata": {},
   "source": [
    "## Step 6: Feature selection \n",
    "Now that I am satisfied with my split testing I will move on to feacture selection starting with performing a couple of hypothesis test on my simpler featueres."
   ]
  },
  {
   "cell_type": "code",
   "execution_count": 193,
   "metadata": {},
   "outputs": [
    {
     "data": {
      "text/plain": [
       "Ttest_indResult(statistic=23.64189256331611, pvalue=1.2107663322174255e-121)"
      ]
     },
     "execution_count": 193,
     "metadata": {},
     "output_type": "execute_result"
    }
   ],
   "source": [
    "#Hypothesis testing basement column \n",
    "\n",
    "has_base = all_feats[(all_feats['basement'] == 1)] \n",
    "base_price = has_base.price\n",
    "no_base = all_feats[(all_feats['basement'] == 0)]   \n",
    "nob_price = no_base.price\n",
    "\n",
    "scipy.stats.ttest_ind(base_price,nob_price) "
   ]
  },
  {
   "cell_type": "code",
   "execution_count": 194,
   "metadata": {},
   "outputs": [
    {
     "name": "stdout",
     "output_type": "stream",
     "text": [
      "Based off of this test statistic, I would reject the null hypothesis.\n"
     ]
    }
   ],
   "source": [
    "print('Based off of this test statistic, I would reject the null hypothesis.')"
   ]
  },
  {
   "cell_type": "code",
   "execution_count": 195,
   "metadata": {},
   "outputs": [
    {
     "data": {
      "text/plain": [
       "Ttest_indResult(statistic=10.653779530256454, pvalue=2.0220641399300563e-26)"
      ]
     },
     "execution_count": 195,
     "metadata": {},
     "output_type": "execute_result"
    }
   ],
   "source": [
    "#Hypothesis testing golden ratio column \n",
    "\n",
    "has_gr = all_feats[(all_feats['golden_ratio'] == 1)] \n",
    "gr_price = has_gr.price\n",
    "has_gr = all_feats[(all_feats['golden_ratio'] == 0)]   \n",
    "nogr_price = has_gr.price\n",
    "\n",
    "scipy.stats.ttest_ind(gr_price,nogr_price) \n"
   ]
  },
  {
   "cell_type": "code",
   "execution_count": 196,
   "metadata": {},
   "outputs": [
    {
     "name": "stdout",
     "output_type": "stream",
     "text": [
      "Based off of this test statistic, I would reject the null hypothesis.\n"
     ]
    }
   ],
   "source": [
    "print('Based off of this test statistic, I would reject the null hypothesis.')"
   ]
  },
  {
   "cell_type": "code",
   "execution_count": 197,
   "metadata": {},
   "outputs": [
    {
     "data": {
      "text/plain": [
       "Ttest_indResult(statistic=37.72330429549608, pvalue=2.465038317654299e-299)"
      ]
     },
     "execution_count": 197,
     "metadata": {},
     "output_type": "execute_result"
    }
   ],
   "source": [
    "#Hypothesis testing waterfront column \n",
    "\n",
    "is_waterfront = all_feats[(all_feats['waterfront'] == 1)] \n",
    "waterfront_price = is_waterfront.price\n",
    "no_waterfront = all_feats[(all_feats['waterfront'] == 0)]   \n",
    "notw_price = no_waterfront.price\n",
    "\n",
    "scipy.stats.ttest_ind(waterfront_price,notw_price) \n"
   ]
  },
  {
   "cell_type": "code",
   "execution_count": 198,
   "metadata": {},
   "outputs": [
    {
     "name": "stdout",
     "output_type": "stream",
     "text": [
      "Based off of this test statistic, I would reject the null hypothesis.\n"
     ]
    }
   ],
   "source": [
    "print('Based off of this test statistic, I would reject the null hypothesis.')"
   ]
  },
  {
   "cell_type": "code",
   "execution_count": 199,
   "metadata": {},
   "outputs": [
    {
     "name": "stdout",
     "output_type": "stream",
     "text": [
      "The home category has a statistically significant impact on average property value\n",
      "Conditions F-statisic Probability:  5.969633290958834e-192\n"
     ]
    }
   ],
   "source": [
    "#Anova test on the home category makes a difference\n",
    "alpha = 0.05 \n",
    "formula = 'price~home_category'\n",
    "lm_condition = smf.ols(formula, clean_data2).fit()\n",
    "anova_condition = sm.stats.anova_lm(lm_condition, typ=2)\n",
    "if anova_condition[\"PR(>F)\"][0] < alpha:\n",
    "    print(\"The home category has a statistically significant impact on average property value\")\n",
    "    print(\"Conditions F-statisic Probability: \", anova_condition[\"PR(>F)\"][0])"
   ]
  },
  {
   "cell_type": "code",
   "execution_count": 200,
   "metadata": {},
   "outputs": [
    {
     "name": "stdout",
     "output_type": "stream",
     "text": [
      "The score category has a statistically significant impact on average property value\n",
      "Conditions F-statisic Probability:  0.0\n"
     ]
    }
   ],
   "source": [
    "formula = 'price~score_cat'\n",
    "lm_condition = smf.ols(formula, clean_data2).fit()\n",
    "anova_condition = sm.stats.anova_lm(lm_condition, typ=2)\n",
    "if anova_condition[\"PR(>F)\"][0] < alpha:\n",
    "    print(\"The score category has a statistically significant impact on average property value\")\n",
    "    print(\"Conditions F-statisic Probability: \", anova_condition[\"PR(>F)\"][0])"
   ]
  },
  {
   "cell_type": "markdown",
   "metadata": {},
   "source": [
    "### 6.1) Correlation Testing"
   ]
  },
  {
   "cell_type": "code",
   "execution_count": 201,
   "metadata": {
    "scrolled": true
   },
   "outputs": [
    {
     "data": {
      "text/plain": [
       "price                       1.000000\n",
       "bedrooms                    0.305106\n",
       "bathrooms                   0.524335\n",
       "sqft_living                 0.703540\n",
       "sqft_lot                    0.086803\n",
       "                              ...   \n",
       "98199.0                     0.082508\n",
       "sqft_li_to_sqft_lo_score    0.205892\n",
       "score^2                     0.685691\n",
       "s_b_b                       0.413924\n",
       "w_b_s                       0.354563\n",
       "Name: price, Length: 98, dtype: float64"
      ]
     },
     "execution_count": 201,
     "metadata": {},
     "output_type": "execute_result"
    }
   ],
   "source": [
    "price_corr = all_feats[all_feats.columns[:]].corr()['price'][:] \n",
    "price_corr"
   ]
  },
  {
   "cell_type": "code",
   "execution_count": 202,
   "metadata": {},
   "outputs": [
    {
     "name": "stdout",
     "output_type": "stream",
     "text": [
      "R^2 Score: 0.8468106319427414\n"
     ]
    }
   ],
   "source": [
    "print (\"R^2 Score:\", lm.score(x_train, y_train))"
   ]
  },
  {
   "cell_type": "code",
   "execution_count": 203,
   "metadata": {},
   "outputs": [
    {
     "data": {
      "text/plain": [
       "98133.0                98039.0                  0.007621\n",
       "98039.0                98133.0                  0.007621\n",
       "98032.0                98105.0                  0.007627\n",
       "98105.0                98032.0                  0.007627\n",
       "98032.0                starter                  0.007627\n",
       "starter                98032.0                  0.007627\n",
       "98032.0                98002.0                  0.007627\n",
       "98002.0                98032.0                  0.007627\n",
       "large_family           98077.0                  0.007629\n",
       "98077.0                large_family             0.007629\n",
       "98102.0                98177.0                  0.007635\n",
       "98177.0                98102.0                  0.007635\n",
       "98122.0                98010.0                  0.007641\n",
       "98010.0                98122.0                  0.007641\n",
       "98007.0                98005.0                  0.007648\n",
       "98005.0                98007.0                  0.007648\n",
       "98010.0                98003.0                  0.007662\n",
       "98003.0                98010.0                  0.007662\n",
       "98011.0                98188.0                  0.007672\n",
       "98188.0                98011.0                  0.007672\n",
       "98148.0                98023.0                  0.007681\n",
       "98023.0                98148.0                  0.007681\n",
       "98039.0                98023.0                  0.007681\n",
       "98023.0                98039.0                  0.007681\n",
       "distance_to_gas_works  waterfront               0.007685\n",
       "waterfront             distance_to_gas_works    0.007685\n",
       "98119.0                w_b_s                    0.007689\n",
       "w_b_s                  98119.0                  0.007689\n",
       "98148.0                98034.0                  0.007693\n",
       "98034.0                98148.0                  0.007693\n",
       "                       98039.0                  0.007693\n",
       "98039.0                98034.0                  0.007693\n",
       "score^2                98056.0                  0.007694\n",
       "98056.0                score^2                  0.007694\n",
       "98032.0                98077.0                  0.007714\n",
       "98077.0                98032.0                  0.007714\n",
       "98109.0                98030.0                  0.007715\n",
       "98030.0                98109.0                  0.007715\n",
       "98045.0                98014.0                  0.007734\n",
       "98014.0                98045.0                  0.007734\n",
       "98024.0                98146.0                  0.007739\n",
       "98146.0                98024.0                  0.007739\n",
       "98102.0                98040.0                  0.007745\n",
       "98040.0                98102.0                  0.007745\n",
       "98102.0                98112.0                  0.007745\n",
       "98112.0                98102.0                  0.007745\n",
       "98042.0                98148.0                  0.007763\n",
       "98148.0                98042.0                  0.007763\n",
       "98039.0                98042.0                  0.007763\n",
       "98042.0                98039.0                  0.007763\n",
       "98014.0                98105.0                  0.007764\n",
       "98105.0                98014.0                  0.007764\n",
       "98014.0                98002.0                  0.007764\n",
       "98002.0                98014.0                  0.007764\n",
       "98102.0                98004.0                  0.007767\n",
       "98004.0                98102.0                  0.007767\n",
       "golden_ratio           98148.0                  0.007803\n",
       "98148.0                golden_ratio             0.007803\n",
       "98010.0                98146.0                  0.007806\n",
       "98146.0                98010.0                  0.007806\n",
       "dtype: float64"
      ]
     },
     "execution_count": 203,
     "metadata": {},
     "output_type": "execute_result"
    }
   ],
   "source": [
    "c = x_train.corr().abs()\n",
    "\n",
    "s = c.unstack()\n",
    "so = s.sort_values(kind=\"quicksort\")\n",
    "\n",
    "so[1360:1420]"
   ]
  },
  {
   "cell_type": "markdown",
   "metadata": {},
   "source": [
    "### 6.1)Perform F-Test"
   ]
  },
  {
   "cell_type": "code",
   "execution_count": 204,
   "metadata": {},
   "outputs": [
    {
     "data": {
      "text/plain": [
       "SelectKBest(k=30, score_func=<function f_regression at 0x7fe275e70378>)"
      ]
     },
     "execution_count": 204,
     "metadata": {},
     "output_type": "execute_result"
    }
   ],
   "source": [
    "from sklearn.feature_selection import SelectKBest, f_regression,mutual_info_regression\n",
    "\n",
    "selector = SelectKBest(f_regression, k=30)\n",
    "\n",
    "selector.fit(x_train, y_train)"
   ]
  },
  {
   "cell_type": "code",
   "execution_count": 205,
   "metadata": {},
   "outputs": [
    {
     "data": {
      "text/plain": [
       "array([ True,  True,  True,  True,  True,  True,  True,  True, False,\n",
       "        True,  True, False,  True,  True,  True,  True,  True,  True,\n",
       "        True, False,  True, False,  True,  True,  True,  True, False,\n",
       "       False, False,  True, False,  True, False, False, False, False,\n",
       "       False, False, False,  True, False, False, False, False, False,\n",
       "       False, False,  True, False, False,  True,  True,  True, False,\n",
       "       False, False, False, False, False, False, False, False, False,\n",
       "       False, False, False, False, False, False, False, False, False,\n",
       "       False, False,  True, False, False, False, False, False, False,\n",
       "       False, False, False, False, False, False, False, False, False,\n",
       "       False, False, False, False, False, False])"
      ]
     },
     "execution_count": 205,
     "metadata": {},
     "output_type": "execute_result"
    }
   ],
   "source": [
    "selector.get_support()"
   ]
  },
  {
   "cell_type": "code",
   "execution_count": 206,
   "metadata": {},
   "outputs": [],
   "source": [
    "selected_columns = x_train.columns[selector.get_support()]\n",
    "removed_columns = x_train.columns[~selector.get_support()]\n",
    "# X_train = X_train[selected_columns]\n",
    "# X_test = X_test[selected_columns]"
   ]
  },
  {
   "cell_type": "code",
   "execution_count": 207,
   "metadata": {},
   "outputs": [],
   "source": [
    "#'sqft_li_to_sqft_lo', 'sqft_lot',"
   ]
  },
  {
   "cell_type": "code",
   "execution_count": 208,
   "metadata": {},
   "outputs": [],
   "source": [
    "sugg =list(removed_columns)"
   ]
  },
  {
   "cell_type": "code",
   "execution_count": 209,
   "metadata": {},
   "outputs": [
    {
     "name": "stdout",
     "output_type": "stream",
     "text": [
      "Training Root Mean Squared Error: 162769.91602010693\n",
      "Testing Root Mean Squared Error: 170187.79821260375\n"
     ]
    }
   ],
   "source": [
    "#instantiate a linear regression object\n",
    "lm_kbest = LinearRegression()\n",
    "\n",
    "#fit the linear regression to the data\n",
    "lm_kbest.fit(x_train[selected_columns], y_train)\n",
    "\n",
    "y_train_kbest = lm_kbest.predict(x_train[selected_columns])\n",
    "\n",
    "\n",
    "trainK_rmse = np.sqrt(metrics.mean_squared_error(y_train, y_train_kbest))\n",
    "\n",
    "\n",
    "print('Training Root Mean Squared Error:' , trainK_rmse)\n",
    "\n",
    "y_kbest = lm_kbest.predict(x_test[selected_columns])\n",
    "\n",
    "testK_rmse = np.sqrt(metrics.mean_squared_error(y_test, y_kbest))\n",
    "\n",
    "print('Testing Root Mean Squared Error:' , testK_rmse)"
   ]
  },
  {
   "cell_type": "code",
   "execution_count": 210,
   "metadata": {},
   "outputs": [
    {
     "name": "stdout",
     "output_type": "stream",
     "text": [
      "Original:  155551.11794644906 \n",
      " KBest:    170187.79821260375 \n",
      "\n"
     ]
    }
   ],
   "source": [
    "print('Original: ', test_rmse, '\\n',\n",
    "      \"KBest:   \", testK_rmse,'\\n')"
   ]
  },
  {
   "cell_type": "markdown",
   "metadata": {},
   "source": [
    "### 6.1)Perform Wrapper Test"
   ]
  },
  {
   "cell_type": "code",
   "execution_count": 211,
   "metadata": {},
   "outputs": [],
   "source": [
    "from sklearn.feature_selection import RFECV"
   ]
  },
  {
   "cell_type": "code",
   "execution_count": 212,
   "metadata": {},
   "outputs": [],
   "source": [
    "ols = linear_model.LinearRegression()"
   ]
  },
  {
   "cell_type": "code",
   "execution_count": 213,
   "metadata": {},
   "outputs": [
    {
     "data": {
      "text/plain": [
       "RFECV(cv=5,\n",
       "      estimator=LinearRegression(copy_X=True, fit_intercept=True, n_jobs=None,\n",
       "                                 normalize=False),\n",
       "      min_features_to_select=1, n_jobs=-1, scoring='neg_mean_squared_error',\n",
       "      step=2, verbose=1)"
      ]
     },
     "execution_count": 213,
     "metadata": {},
     "output_type": "execute_result"
    }
   ],
   "source": [
    "# Create recursive feature eliminator that scores features by mean squared errors\n",
    "selector = RFECV(estimator=ols, step=2, cv=5, scoring='neg_mean_squared_error', n_jobs=-1, verbose=1)\n",
    "\n",
    "# Fit recursive feature eliminator \n",
    "selector.fit(x_train, y_train)"
   ]
  },
  {
   "cell_type": "code",
   "execution_count": 214,
   "metadata": {},
   "outputs": [],
   "source": [
    "selected_rfe = x_train.columns[selector.support_]\n",
    "removed_rfe = x_train.columns[~selector.support_]"
   ]
  },
  {
   "cell_type": "code",
   "execution_count": 215,
   "metadata": {},
   "outputs": [
    {
     "data": {
      "text/plain": [
       "Index([], dtype='object')"
      ]
     },
     "execution_count": 215,
     "metadata": {},
     "output_type": "execute_result"
    }
   ],
   "source": [
    "removed_rfe"
   ]
  },
  {
   "cell_type": "code",
   "execution_count": 216,
   "metadata": {},
   "outputs": [
    {
     "data": {
      "text/plain": [
       "Index(['sqft_li_to_sqft_lo_score',                  'score^2',\n",
       "            'years_since_updated',                    's_b_b',\n",
       "                          'w_b_s',                 'bedrooms',\n",
       "                      'bathrooms',              'sqft_living',\n",
       "                       'sqft_lot',    'distance_to_gas_works',\n",
       "                    'bath_to_bed',             'golden_ratio',\n",
       "             'sqft_li_to_sqft_lo',                   'floors',\n",
       "                     'waterfront',                     'view',\n",
       "                   'year_updated',                 'basement',\n",
       "                   'large_family',                  'mansion',\n",
       "                   'small_family',                  'starter',\n",
       "                       'high_end',                 'high_mid',\n",
       "                            'low',                  'low_mid',\n",
       "                          98001.0,                    98002.0,\n",
       "                          98003.0,                    98004.0,\n",
       "                          98005.0,                    98006.0,\n",
       "                          98007.0,                    98008.0,\n",
       "                          98010.0,                    98011.0,\n",
       "                          98014.0,                    98019.0,\n",
       "                          98022.0,                    98023.0,\n",
       "                          98024.0,                    98027.0,\n",
       "                          98028.0,                    98029.0,\n",
       "                          98030.0,                    98031.0,\n",
       "                          98032.0,                    98033.0,\n",
       "                          98034.0,                    98038.0,\n",
       "                          98039.0,                    98040.0,\n",
       "                          98042.0,                    98045.0,\n",
       "                          98052.0,                    98053.0,\n",
       "                          98055.0,                    98056.0,\n",
       "                          98058.0,                    98059.0,\n",
       "                          98065.0,                    98070.0,\n",
       "                          98072.0,                    98074.0,\n",
       "                          98075.0,                    98077.0,\n",
       "                          98092.0,                    98102.0,\n",
       "                          98103.0,                    98105.0,\n",
       "                          98106.0,                    98107.0,\n",
       "                          98108.0,                    98109.0,\n",
       "                          98112.0,                    98115.0,\n",
       "                          98116.0,                    98117.0,\n",
       "                          98118.0,                    98119.0,\n",
       "                          98122.0,                    98125.0,\n",
       "                          98126.0,                    98133.0,\n",
       "                          98136.0,                    98144.0,\n",
       "                          98146.0,                    98148.0,\n",
       "                          98155.0,                    98166.0,\n",
       "                          98168.0,                    98177.0,\n",
       "                          98178.0,                    98188.0,\n",
       "                          98198.0,                    98199.0],\n",
       "      dtype='object')"
      ]
     },
     "execution_count": 216,
     "metadata": {},
     "output_type": "execute_result"
    }
   ],
   "source": [
    "selected_rfe"
   ]
  },
  {
   "cell_type": "code",
   "execution_count": 217,
   "metadata": {},
   "outputs": [
    {
     "name": "stdout",
     "output_type": "stream",
     "text": [
      "Training Root Mean Squared Error: 146157.5433309792\n",
      "Testing Root Mean Squared Error: 155551.11794644906\n"
     ]
    }
   ],
   "source": [
    "#instantiate a linear regression object\n",
    "lm_rfe = LinearRegression()\n",
    "\n",
    "#fit the linear regression to the data\n",
    "lm_rfe = lm_rfe.fit(x_train[selected_rfe], y_train)\n",
    "\n",
    "y_rfe = lm_rfe.predict(x_train[selected_rfe])\n",
    "\n",
    "\n",
    "trainRFE_rmse = np.sqrt(metrics.mean_squared_error(y_train, y_rfe))\n",
    "\n",
    "\n",
    "print('Training Root Mean Squared Error:' , trainRFE_rmse)\n",
    "\n",
    "y_pred_rfe = lm_rfe.predict(x_test[selected_rfe])\n",
    "\n",
    "testRFE_rmse = np.sqrt(metrics.mean_squared_error(y_test, y_pred_rfe))\n",
    "\n",
    "print('Testing Root Mean Squared Error:' , testRFE_rmse)"
   ]
  },
  {
   "cell_type": "code",
   "execution_count": 218,
   "metadata": {},
   "outputs": [
    {
     "name": "stdout",
     "output_type": "stream",
     "text": [
      "Original:  155551.11794644906 \n",
      " KBest:    170187.79821260375 \n",
      " RFE:      155551.11794644906\n"
     ]
    }
   ],
   "source": [
    "print('Original: ', test_rmse, '\\n',\n",
    "      \"KBest:   \", testK_rmse,'\\n',\n",
    "      \"RFE:     \", testRFE_rmse)"
   ]
  },
  {
   "cell_type": "markdown",
   "metadata": {},
   "source": [
    "## Step 7: Adjusting and choosing a model. \n",
    "\n",
    "So now that I have tested it seems all my variables are useful. Nevertheless I will be removing the duplicates cause by my poly features and re running my test. For the sake of ease I will do this by temporarily call altered set by the same name as the one I previously tested."
   ]
  },
  {
   "cell_type": "markdown",
   "metadata": {},
   "source": [
    "## Step 8:  Refit your best model to the entire dataset."
   ]
  },
  {
   "cell_type": "code",
   "execution_count": null,
   "metadata": {},
   "outputs": [],
   "source": [
    "scaler1 = StandardScaler()\n",
    "scaler1.fit(altered_list[ad_s_feats])\n",
    "scaled_data2 = scaler1.transform(altered_list[ad_s_feats]) "
   ]
  },
  {
   "cell_type": "code",
   "execution_count": null,
   "metadata": {},
   "outputs": [],
   "source": [
    "df_features_scaled = pd.DataFrame(data=scaled_data2, columns=ad_s_feats, index=altered_list.index)"
   ]
  },
  {
   "cell_type": "code",
   "execution_count": null,
   "metadata": {},
   "outputs": [],
   "source": [
    "not_scaled = [x for x in ad_list if x not in ad_s_feats] "
   ]
  },
  {
   "cell_type": "code",
   "execution_count": null,
   "metadata": {},
   "outputs": [],
   "source": [
    "df_features = pd.concat([df_features_scaled, altered_list[not_scaled]], axis=1)"
   ]
  },
  {
   "cell_type": "code",
   "execution_count": null,
   "metadata": {},
   "outputs": [],
   "source": [
    "df_features"
   ]
  },
  {
   "cell_type": "code",
   "execution_count": null,
   "metadata": {},
   "outputs": [],
   "source": [
    "lm_final = LinearRegression()\n",
    "\n",
    "#fit the linear regression to the data\n",
    "lm_final = lm.fit(df_features, target)"
   ]
  },
  {
   "cell_type": "code",
   "execution_count": null,
   "metadata": {},
   "outputs": [],
   "source": [
    "not_scaled = [x for x in ad_list if x not in ad_s_feats] \n",
    "not_scaled"
   ]
  },
  {
   "cell_type": "code",
   "execution_count": null,
   "metadata": {},
   "outputs": [],
   "source": [
    "altered_list = all_feats[ad_list]"
   ]
  },
  {
   "cell_type": "code",
   "execution_count": null,
   "metadata": {},
   "outputs": [],
   "source": [
    "lm.coef_"
   ]
  },
  {
   "cell_type": "markdown",
   "metadata": {},
   "source": [
    "## Step 9: Save your final model using pickle.\n",
    "\n",
    "https://machinelearningmastery.com/save-load-machine-learning-models-python-scikit-learn/"
   ]
  },
  {
   "cell_type": "code",
   "execution_count": 219,
   "metadata": {},
   "outputs": [],
   "source": [
    "def scale_fit_pickle_origin(df_features, target):\n",
    "    \"\"\"\n",
    "    Scaling df with features,\n",
    "    Fit linear model with scaled features\n",
    "    Create pickle file with Scaler and Model\n",
    "    params: \n",
    "            df_features - most important features \n",
    "            target - Series\n",
    "    \"\"\"\n",
    "    scaler = StandardScaler()\n",
    "    scaler.fit(df_features)\n",
    "    scaled_data = scaler.transform(df_features)\n",
    "    df_features_scaled = pd.DataFrame(data=scaled_data, columns=df_features.columns, index=df_features.index)\n",
    "    lm_final = LinearRegression()\n",
    "    lm_final = lm_final.fit(df_features, target)\n",
    "    pickle_out = open(\"model.pickle\",\"wb\")\n",
    "    pickle.dump(lm_final, pickle_out)\n",
    "    pickle_out.close()\n",
    "    pickle_out = open('scaler.pickle', \"wb\")\n",
    "    pickle.dump(scaler, pickle_out)\n",
    "    pickle_out.close()\n",
    "    return print(' CONGRATS !!! You sucessfuly created you pickles for SCALER and MODEL')"
   ]
  },
  {
   "cell_type": "code",
   "execution_count": 220,
   "metadata": {},
   "outputs": [
    {
     "data": {
      "text/html": [
       "<div>\n",
       "<style scoped>\n",
       "    .dataframe tbody tr th:only-of-type {\n",
       "        vertical-align: middle;\n",
       "    }\n",
       "\n",
       "    .dataframe tbody tr th {\n",
       "        vertical-align: top;\n",
       "    }\n",
       "\n",
       "    .dataframe thead th {\n",
       "        text-align: right;\n",
       "    }\n",
       "</style>\n",
       "<table border=\"1\" class=\"dataframe\">\n",
       "  <thead>\n",
       "    <tr style=\"text-align: right;\">\n",
       "      <th></th>\n",
       "      <th>years_since_updated</th>\n",
       "      <th>s_b_b</th>\n",
       "      <th>w_b_s</th>\n",
       "      <th>bedrooms</th>\n",
       "      <th>bathrooms</th>\n",
       "      <th>sqft_living</th>\n",
       "      <th>sqft_lot</th>\n",
       "      <th>floors</th>\n",
       "      <th>waterfront</th>\n",
       "      <th>view</th>\n",
       "      <th>...</th>\n",
       "      <th>98155.0</th>\n",
       "      <th>98166.0</th>\n",
       "      <th>98168.0</th>\n",
       "      <th>98177.0</th>\n",
       "      <th>98178.0</th>\n",
       "      <th>98188.0</th>\n",
       "      <th>98198.0</th>\n",
       "      <th>98199.0</th>\n",
       "      <th>sqft_li_to_sqft_lo_score</th>\n",
       "      <th>score^2</th>\n",
       "    </tr>\n",
       "  </thead>\n",
       "  <tbody>\n",
       "    <tr>\n",
       "      <th>0</th>\n",
       "      <td>35.0</td>\n",
       "      <td>0.0</td>\n",
       "      <td>0.0</td>\n",
       "      <td>4.0</td>\n",
       "      <td>2.25</td>\n",
       "      <td>2070.0</td>\n",
       "      <td>8893.0</td>\n",
       "      <td>2.0</td>\n",
       "      <td>0.0</td>\n",
       "      <td>0.0</td>\n",
       "      <td>...</td>\n",
       "      <td>0</td>\n",
       "      <td>0</td>\n",
       "      <td>0</td>\n",
       "      <td>0</td>\n",
       "      <td>0</td>\n",
       "      <td>0</td>\n",
       "      <td>0</td>\n",
       "      <td>0</td>\n",
       "      <td>3.258743</td>\n",
       "      <td>196.0000</td>\n",
       "    </tr>\n",
       "    <tr>\n",
       "      <th>1</th>\n",
       "      <td>44.0</td>\n",
       "      <td>2900.0</td>\n",
       "      <td>0.0</td>\n",
       "      <td>5.0</td>\n",
       "      <td>3.00</td>\n",
       "      <td>2900.0</td>\n",
       "      <td>6730.0</td>\n",
       "      <td>1.0</td>\n",
       "      <td>0.0</td>\n",
       "      <td>0.0</td>\n",
       "      <td>...</td>\n",
       "      <td>0</td>\n",
       "      <td>0</td>\n",
       "      <td>0</td>\n",
       "      <td>0</td>\n",
       "      <td>0</td>\n",
       "      <td>0</td>\n",
       "      <td>0</td>\n",
       "      <td>0</td>\n",
       "      <td>6.463596</td>\n",
       "      <td>225.0000</td>\n",
       "    </tr>\n",
       "    <tr>\n",
       "      <th>2</th>\n",
       "      <td>24.0</td>\n",
       "      <td>0.0</td>\n",
       "      <td>0.0</td>\n",
       "      <td>4.0</td>\n",
       "      <td>2.50</td>\n",
       "      <td>3770.0</td>\n",
       "      <td>10893.0</td>\n",
       "      <td>2.0</td>\n",
       "      <td>0.0</td>\n",
       "      <td>2.0</td>\n",
       "      <td>...</td>\n",
       "      <td>0</td>\n",
       "      <td>0</td>\n",
       "      <td>0</td>\n",
       "      <td>0</td>\n",
       "      <td>0</td>\n",
       "      <td>0</td>\n",
       "      <td>0</td>\n",
       "      <td>0</td>\n",
       "      <td>5.797072</td>\n",
       "      <td>280.5625</td>\n",
       "    </tr>\n",
       "    <tr>\n",
       "      <th>3</th>\n",
       "      <td>31.0</td>\n",
       "      <td>0.0</td>\n",
       "      <td>0.0</td>\n",
       "      <td>3.0</td>\n",
       "      <td>3.50</td>\n",
       "      <td>4560.0</td>\n",
       "      <td>14608.0</td>\n",
       "      <td>2.0</td>\n",
       "      <td>0.0</td>\n",
       "      <td>2.0</td>\n",
       "      <td>...</td>\n",
       "      <td>0</td>\n",
       "      <td>0</td>\n",
       "      <td>0</td>\n",
       "      <td>0</td>\n",
       "      <td>0</td>\n",
       "      <td>0</td>\n",
       "      <td>0</td>\n",
       "      <td>0</td>\n",
       "      <td>5.618839</td>\n",
       "      <td>324.0000</td>\n",
       "    </tr>\n",
       "    <tr>\n",
       "      <th>4</th>\n",
       "      <td>17.0</td>\n",
       "      <td>0.0</td>\n",
       "      <td>0.0</td>\n",
       "      <td>3.0</td>\n",
       "      <td>2.50</td>\n",
       "      <td>2550.0</td>\n",
       "      <td>5376.0</td>\n",
       "      <td>2.0</td>\n",
       "      <td>0.0</td>\n",
       "      <td>0.0</td>\n",
       "      <td>...</td>\n",
       "      <td>0</td>\n",
       "      <td>0</td>\n",
       "      <td>0</td>\n",
       "      <td>0</td>\n",
       "      <td>0</td>\n",
       "      <td>0</td>\n",
       "      <td>0</td>\n",
       "      <td>0</td>\n",
       "      <td>6.759208</td>\n",
       "      <td>203.0625</td>\n",
       "    </tr>\n",
       "    <tr>\n",
       "      <th>...</th>\n",
       "      <td>...</td>\n",
       "      <td>...</td>\n",
       "      <td>...</td>\n",
       "      <td>...</td>\n",
       "      <td>...</td>\n",
       "      <td>...</td>\n",
       "      <td>...</td>\n",
       "      <td>...</td>\n",
       "      <td>...</td>\n",
       "      <td>...</td>\n",
       "      <td>...</td>\n",
       "      <td>...</td>\n",
       "      <td>...</td>\n",
       "      <td>...</td>\n",
       "      <td>...</td>\n",
       "      <td>...</td>\n",
       "      <td>...</td>\n",
       "      <td>...</td>\n",
       "      <td>...</td>\n",
       "      <td>...</td>\n",
       "      <td>...</td>\n",
       "    </tr>\n",
       "    <tr>\n",
       "      <th>17285</th>\n",
       "      <td>63.0</td>\n",
       "      <td>3240.0</td>\n",
       "      <td>0.0</td>\n",
       "      <td>5.0</td>\n",
       "      <td>2.50</td>\n",
       "      <td>3240.0</td>\n",
       "      <td>9960.0</td>\n",
       "      <td>1.0</td>\n",
       "      <td>0.0</td>\n",
       "      <td>1.0</td>\n",
       "      <td>...</td>\n",
       "      <td>0</td>\n",
       "      <td>0</td>\n",
       "      <td>0</td>\n",
       "      <td>0</td>\n",
       "      <td>0</td>\n",
       "      <td>0</td>\n",
       "      <td>0</td>\n",
       "      <td>0</td>\n",
       "      <td>4.228916</td>\n",
       "      <td>169.0000</td>\n",
       "    </tr>\n",
       "    <tr>\n",
       "      <th>17286</th>\n",
       "      <td>73.0</td>\n",
       "      <td>0.0</td>\n",
       "      <td>0.0</td>\n",
       "      <td>2.0</td>\n",
       "      <td>1.75</td>\n",
       "      <td>1300.0</td>\n",
       "      <td>4000.0</td>\n",
       "      <td>2.0</td>\n",
       "      <td>0.0</td>\n",
       "      <td>0.0</td>\n",
       "      <td>...</td>\n",
       "      <td>0</td>\n",
       "      <td>0</td>\n",
       "      <td>0</td>\n",
       "      <td>0</td>\n",
       "      <td>0</td>\n",
       "      <td>0</td>\n",
       "      <td>0</td>\n",
       "      <td>0</td>\n",
       "      <td>3.818750</td>\n",
       "      <td>138.0625</td>\n",
       "    </tr>\n",
       "    <tr>\n",
       "      <th>17287</th>\n",
       "      <td>68.0</td>\n",
       "      <td>0.0</td>\n",
       "      <td>0.0</td>\n",
       "      <td>3.0</td>\n",
       "      <td>1.00</td>\n",
       "      <td>1050.0</td>\n",
       "      <td>9876.0</td>\n",
       "      <td>1.0</td>\n",
       "      <td>0.0</td>\n",
       "      <td>0.0</td>\n",
       "      <td>...</td>\n",
       "      <td>0</td>\n",
       "      <td>0</td>\n",
       "      <td>0</td>\n",
       "      <td>0</td>\n",
       "      <td>0</td>\n",
       "      <td>0</td>\n",
       "      <td>0</td>\n",
       "      <td>0</td>\n",
       "      <td>1.249241</td>\n",
       "      <td>138.0625</td>\n",
       "    </tr>\n",
       "    <tr>\n",
       "      <th>17288</th>\n",
       "      <td>50.0</td>\n",
       "      <td>1900.0</td>\n",
       "      <td>0.0</td>\n",
       "      <td>3.0</td>\n",
       "      <td>1.50</td>\n",
       "      <td>1900.0</td>\n",
       "      <td>43186.0</td>\n",
       "      <td>1.5</td>\n",
       "      <td>0.0</td>\n",
       "      <td>0.0</td>\n",
       "      <td>...</td>\n",
       "      <td>0</td>\n",
       "      <td>0</td>\n",
       "      <td>0</td>\n",
       "      <td>0</td>\n",
       "      <td>0</td>\n",
       "      <td>0</td>\n",
       "      <td>0</td>\n",
       "      <td>0</td>\n",
       "      <td>0.560946</td>\n",
       "      <td>162.5625</td>\n",
       "    </tr>\n",
       "    <tr>\n",
       "      <th>17289</th>\n",
       "      <td>69.0</td>\n",
       "      <td>0.0</td>\n",
       "      <td>0.0</td>\n",
       "      <td>3.0</td>\n",
       "      <td>1.50</td>\n",
       "      <td>1330.0</td>\n",
       "      <td>6768.0</td>\n",
       "      <td>1.0</td>\n",
       "      <td>0.0</td>\n",
       "      <td>0.0</td>\n",
       "      <td>...</td>\n",
       "      <td>1</td>\n",
       "      <td>0</td>\n",
       "      <td>0</td>\n",
       "      <td>0</td>\n",
       "      <td>0</td>\n",
       "      <td>0</td>\n",
       "      <td>0</td>\n",
       "      <td>0</td>\n",
       "      <td>2.505541</td>\n",
       "      <td>162.5625</td>\n",
       "    </tr>\n",
       "  </tbody>\n",
       "</table>\n",
       "<p>17290 rows × 96 columns</p>\n",
       "</div>"
      ],
      "text/plain": [
       "       years_since_updated   s_b_b  w_b_s  bedrooms  bathrooms  sqft_living  \\\n",
       "0                     35.0     0.0    0.0       4.0       2.25       2070.0   \n",
       "1                     44.0  2900.0    0.0       5.0       3.00       2900.0   \n",
       "2                     24.0     0.0    0.0       4.0       2.50       3770.0   \n",
       "3                     31.0     0.0    0.0       3.0       3.50       4560.0   \n",
       "4                     17.0     0.0    0.0       3.0       2.50       2550.0   \n",
       "...                    ...     ...    ...       ...        ...          ...   \n",
       "17285                 63.0  3240.0    0.0       5.0       2.50       3240.0   \n",
       "17286                 73.0     0.0    0.0       2.0       1.75       1300.0   \n",
       "17287                 68.0     0.0    0.0       3.0       1.00       1050.0   \n",
       "17288                 50.0  1900.0    0.0       3.0       1.50       1900.0   \n",
       "17289                 69.0     0.0    0.0       3.0       1.50       1330.0   \n",
       "\n",
       "       sqft_lot  floors  waterfront  view  ...  98155.0  98166.0  98168.0  \\\n",
       "0        8893.0     2.0         0.0   0.0  ...        0        0        0   \n",
       "1        6730.0     1.0         0.0   0.0  ...        0        0        0   \n",
       "2       10893.0     2.0         0.0   2.0  ...        0        0        0   \n",
       "3       14608.0     2.0         0.0   2.0  ...        0        0        0   \n",
       "4        5376.0     2.0         0.0   0.0  ...        0        0        0   \n",
       "...         ...     ...         ...   ...  ...      ...      ...      ...   \n",
       "17285    9960.0     1.0         0.0   1.0  ...        0        0        0   \n",
       "17286    4000.0     2.0         0.0   0.0  ...        0        0        0   \n",
       "17287    9876.0     1.0         0.0   0.0  ...        0        0        0   \n",
       "17288   43186.0     1.5         0.0   0.0  ...        0        0        0   \n",
       "17289    6768.0     1.0         0.0   0.0  ...        1        0        0   \n",
       "\n",
       "       98177.0  98178.0  98188.0  98198.0  98199.0  sqft_li_to_sqft_lo_score  \\\n",
       "0            0        0        0        0        0                  3.258743   \n",
       "1            0        0        0        0        0                  6.463596   \n",
       "2            0        0        0        0        0                  5.797072   \n",
       "3            0        0        0        0        0                  5.618839   \n",
       "4            0        0        0        0        0                  6.759208   \n",
       "...        ...      ...      ...      ...      ...                       ...   \n",
       "17285        0        0        0        0        0                  4.228916   \n",
       "17286        0        0        0        0        0                  3.818750   \n",
       "17287        0        0        0        0        0                  1.249241   \n",
       "17288        0        0        0        0        0                  0.560946   \n",
       "17289        0        0        0        0        0                  2.505541   \n",
       "\n",
       "        score^2  \n",
       "0      196.0000  \n",
       "1      225.0000  \n",
       "2      280.5625  \n",
       "3      324.0000  \n",
       "4      203.0625  \n",
       "...         ...  \n",
       "17285  169.0000  \n",
       "17286  138.0625  \n",
       "17287  138.0625  \n",
       "17288  162.5625  \n",
       "17289  162.5625  \n",
       "\n",
       "[17290 rows x 96 columns]"
      ]
     },
     "execution_count": 220,
     "metadata": {},
     "output_type": "execute_result"
    }
   ],
   "source": [
    "df = all_feats[af_list]  \n",
    "df"
   ]
  },
  {
   "cell_type": "code",
   "execution_count": 221,
   "metadata": {},
   "outputs": [
    {
     "name": "stdout",
     "output_type": "stream",
     "text": [
      " CONGRATS !!! You sucessfuly created you pickles for SCALER and MODEL\n"
     ]
    }
   ],
   "source": [
    "scale_fit_pickle_origin(df, target)"
   ]
  },
  {
   "cell_type": "code",
   "execution_count": null,
   "metadata": {},
   "outputs": [],
   "source": []
  },
  {
   "cell_type": "code",
   "execution_count": null,
   "metadata": {},
   "outputs": [],
   "source": []
  }
 ],
 "metadata": {
  "kernelspec": {
   "display_name": "Python 3",
   "language": "python",
   "name": "python3"
  },
  "language_info": {
   "codemirror_mode": {
    "name": "ipython",
    "version": 3
   },
   "file_extension": ".py",
   "mimetype": "text/x-python",
   "name": "python",
   "nbconvert_exporter": "python",
   "pygments_lexer": "ipython3",
   "version": "3.6.9"
  }
 },
 "nbformat": 4,
 "nbformat_minor": 4
}
